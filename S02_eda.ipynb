{
 "cells": [
  {
   "cell_type": "markdown",
   "metadata": {},
   "source": [
    "# Exploratory data analysis\n",
    "\n",
    "A brief exploratory analysis is conducted on the partitioned parquets and cleaned data to learn more about the data, aggregations and quality issues."
   ]
  },
  {
   "cell_type": "code",
   "execution_count": 1,
   "metadata": {},
   "outputs": [],
   "source": [
    "# Import libraries\n",
    "import pandas as pd\n",
    "import pyspark\n",
    "import pyspark.sql.functions as F\n",
    "from pyspark.sql.functions import (\n",
    "    split, col, explode, to_date, unix_timestamp, \n",
    "    to_timestamp, year, month, dayofmonth, dayofweek, \n",
    "    hour, minute\n",
    ")"
   ]
  },
  {
   "cell_type": "code",
   "execution_count": 2,
   "metadata": {},
   "outputs": [],
   "source": [
    "# Setup spark environement\n",
    "from pyspark.sql import SparkSession\n",
    "spark = (\n",
    "    SparkSession\n",
    "        .builder\n",
    "        .appName(\"eda\")\n",
    "        .config(\"spark.driver.memory\", \"8g\")\n",
    "        .getOrCreate()\n",
    "    \n",
    ")"
   ]
  },
  {
   "cell_type": "markdown",
   "metadata": {},
   "source": [
    "## Business"
   ]
  },
  {
   "cell_type": "code",
   "execution_count": 8,
   "metadata": {},
   "outputs": [],
   "source": [
    "sdf_business = spark.read.parquet(\"data/output/yelp_academic_dataset_business.parquet\")"
   ]
  },
  {
   "cell_type": "code",
   "execution_count": 10,
   "metadata": {},
   "outputs": [
    {
     "name": "stdout",
     "output_type": "stream",
     "text": [
      "root\n",
      " |-- business_id: string (nullable = true)\n",
      " |-- address: string (nullable = true)\n",
      " |-- categories: string (nullable = true)\n",
      " |-- city: string (nullable = true)\n",
      " |-- is_open: long (nullable = true)\n",
      " |-- latitude: double (nullable = true)\n",
      " |-- longitude: double (nullable = true)\n",
      " |-- name: string (nullable = true)\n",
      " |-- postal_code: string (nullable = true)\n",
      " |-- review_count: long (nullable = true)\n",
      " |-- stars: double (nullable = true)\n",
      " |-- state: string (nullable = true)\n",
      " |-- attributes_AcceptsInsurance: string (nullable = true)\n",
      " |-- attributes_AgesAllowed: string (nullable = true)\n",
      " |-- attributes_Alcohol: string (nullable = true)\n",
      " |-- attributes_Ambience: string (nullable = true)\n",
      " |-- attributes_BYOB: string (nullable = true)\n",
      " |-- attributes_BYOBCorkage: string (nullable = true)\n",
      " |-- attributes_BestNights: string (nullable = true)\n",
      " |-- attributes_BikeParking: string (nullable = true)\n",
      " |-- attributes_BusinessAcceptsBitcoin: string (nullable = true)\n",
      " |-- attributes_BusinessAcceptsCreditCards: string (nullable = true)\n",
      " |-- attributes_BusinessParking: string (nullable = true)\n",
      " |-- attributes_ByAppointmentOnly: string (nullable = true)\n",
      " |-- attributes_Caters: string (nullable = true)\n",
      " |-- attributes_CoatCheck: string (nullable = true)\n",
      " |-- attributes_Corkage: string (nullable = true)\n",
      " |-- attributes_DietaryRestrictions: string (nullable = true)\n",
      " |-- attributes_DogsAllowed: string (nullable = true)\n",
      " |-- attributes_DriveThru: string (nullable = true)\n",
      " |-- attributes_GoodForDancing: string (nullable = true)\n",
      " |-- attributes_GoodForKids: string (nullable = true)\n",
      " |-- attributes_GoodForMeal: string (nullable = true)\n",
      " |-- attributes_HairSpecializesIn: string (nullable = true)\n",
      " |-- attributes_HappyHour: string (nullable = true)\n",
      " |-- attributes_HasTV: string (nullable = true)\n",
      " |-- attributes_Music: string (nullable = true)\n",
      " |-- attributes_NoiseLevel: string (nullable = true)\n",
      " |-- attributes_Open24Hours: string (nullable = true)\n",
      " |-- attributes_OutdoorSeating: string (nullable = true)\n",
      " |-- attributes_RestaurantsAttire: string (nullable = true)\n",
      " |-- attributes_RestaurantsCounterService: string (nullable = true)\n",
      " |-- attributes_RestaurantsDelivery: string (nullable = true)\n",
      " |-- attributes_RestaurantsGoodForGroups: string (nullable = true)\n",
      " |-- attributes_RestaurantsPriceRange2: string (nullable = true)\n",
      " |-- attributes_RestaurantsReservations: string (nullable = true)\n",
      " |-- attributes_RestaurantsTableService: string (nullable = true)\n",
      " |-- attributes_RestaurantsTakeOut: string (nullable = true)\n",
      " |-- attributes_Smoking: string (nullable = true)\n",
      " |-- attributes_WheelchairAccessible: string (nullable = true)\n",
      " |-- attributes_WiFi: string (nullable = true)\n",
      " |-- hours_Friday: string (nullable = true)\n",
      " |-- hours_Monday: string (nullable = true)\n",
      " |-- hours_Saturday: string (nullable = true)\n",
      " |-- hours_Sunday: string (nullable = true)\n",
      " |-- hours_Thursday: string (nullable = true)\n",
      " |-- hours_Tuesday: string (nullable = true)\n",
      " |-- hours_Wednesday: string (nullable = true)\n",
      " |-- cluster: long (nullable = true)\n",
      " |-- metropolitan_area: string (nullable = true)\n",
      "\n"
     ]
    }
   ],
   "source": [
    "sdf_business.printSchema()"
   ]
  },
  {
   "cell_type": "markdown",
   "metadata": {},
   "source": [
    "* Number of observations by metropolitan area."
   ]
  },
  {
   "cell_type": "code",
   "execution_count": 11,
   "metadata": {},
   "outputs": [],
   "source": [
    "sdf_business.createOrReplaceTempView(\"business\")"
   ]
  },
  {
   "cell_type": "code",
   "execution_count": 18,
   "metadata": {},
   "outputs": [
    {
     "name": "stdout",
     "output_type": "stream",
     "text": [
      "+-------+--------------------+-----+\n",
      "|cluster|   metropolitan_area|    n|\n",
      "+-------+--------------------+-----+\n",
      "|      3|Cambridge, Masach...|36021|\n",
      "|      2|Portland, Oregon ...|28301|\n",
      "|      4|       Austin, Texas|24487|\n",
      "|      5|    Orlando, Florida|21913|\n",
      "|      6|    Atlanta, Georgia|18094|\n",
      "|      7|Vancouver, Britis...|17305|\n",
      "|      1|      Columbus, Ohio|11262|\n",
      "|      0|    Denver, Colorado| 3201|\n",
      "|      8|Cambridge, Masach...|    1|\n",
      "+-------+--------------------+-----+\n",
      "\n"
     ]
    }
   ],
   "source": [
    "spark.sql(\n",
    "    \"\"\"\n",
    "    SELECT \n",
    "        cluster,\n",
    "        metropolitan_area,\n",
    "        COUNT(metropolitan_area) AS n \n",
    "    FROM business\n",
    "    GROUP BY cluster, metropolitan_area\n",
    "    ORDER BY n DESC\n",
    "    \"\"\").show(10)"
   ]
  },
  {
   "cell_type": "markdown",
   "metadata": {},
   "source": [
    "- Sample of 10 observations in the Cambridge metropolitan area."
   ]
  },
  {
   "cell_type": "code",
   "execution_count": 19,
   "metadata": {},
   "outputs": [
    {
     "name": "stdout",
     "output_type": "stream",
     "text": [
      "+--------------------+--------------------+--------------------+--------------------+\n",
      "|   metropolitan_area|          categories|         business_id|                name|\n",
      "+--------------------+--------------------+--------------------+--------------------+\n",
      "|Cambridge, Masach...|Wigs, Hair Extens...|hCABMnKtwo4Y9alQD...|Star Kreations Sa...|\n",
      "|Cambridge, Masach...|Food, Pizza, Rest...|HPA_qyMEddpAEtFof...| Mr G's Pizza & Subs|\n",
      "|Cambridge, Masach...|Specialty Schools...|6fT0lYr_UgWSCZs_w...|       Salter School|\n",
      "|Cambridge, Masach...|Restaurants, Shop...|hcRxdDg7DYryCxCoI...|   Longwood Galleria|\n",
      "|Cambridge, Masach...|Sandwiches, Food,...|jGennaZUr2MsJyRhi...|     Legal Sea Foods|\n",
      "|Cambridge, Masach...|Health & Medical,...|XlLPnkHkm0Q7NLQrA...|    Nancy Wilde, LMT|\n",
      "|Cambridge, Masach...|Playgrounds, Acti...|vOMGjOSKtAKWWW-F_...|Brewer/Burroughs ...|\n",
      "|Cambridge, Masach...|Creperies, Restau...|iPD8BBvea6YldQZPH...|     Espresso Minute|\n",
      "|Cambridge, Masach...|Pet Services, Pet...|D2VwAQBBxfm_l9rYe...|    The Daily Stroll|\n",
      "|Cambridge, Masach...|Restaurants, Sand...|Z2JC3Yrz82kyS86zE...|Gigi's Roast Beef...|\n",
      "+--------------------+--------------------+--------------------+--------------------+\n",
      "\n"
     ]
    }
   ],
   "source": [
    "spark.sql(\n",
    "    \"\"\"\n",
    "    SELECT \n",
    "        metropolitan_area, \n",
    "        categories, \n",
    "        business_id, \n",
    "        name \n",
    "    FROM business\n",
    "    WHERE cluster = 3\n",
    "    LIMIT 10\n",
    "    \"\"\").show()"
   ]
  },
  {
   "cell_type": "markdown",
   "metadata": {},
   "source": [
    "- Sample of categories."
   ]
  },
  {
   "cell_type": "code",
   "execution_count": 31,
   "metadata": {},
   "outputs": [
    {
     "name": "stdout",
     "output_type": "stream",
     "text": [
      "+-------------------------------------------------------------------------------------------------+\n",
      "|categories                                                                                       |\n",
      "+-------------------------------------------------------------------------------------------------+\n",
      "|Wigs, Hair Extensions, Hair Salons, Blow Dry/Out Services, Hair Stylists, Beauty & Spas, Shopping|\n",
      "|Food, Pizza, Restaurants                                                                         |\n",
      "+-------------------------------------------------------------------------------------------------+\n",
      "only showing top 2 rows\n",
      "\n"
     ]
    }
   ],
   "source": [
    "sdf_business.select('categories').show(2, truncate = False)"
   ]
  },
  {
   "cell_type": "markdown",
   "metadata": {},
   "source": [
    "## Business with most reviews and average stars by year"
   ]
  },
  {
   "cell_type": "code",
   "execution_count": 32,
   "metadata": {},
   "outputs": [],
   "source": [
    "sdf_reviews = spark.read.parquet(\"data/output/yelp_academic_dataset_review.parquet\")"
   ]
  },
  {
   "cell_type": "markdown",
   "metadata": {},
   "source": [
    "- Sample of reviews data."
   ]
  },
  {
   "cell_type": "code",
   "execution_count": 37,
   "metadata": {},
   "outputs": [],
   "source": [
    "sdf_reviews.createOrReplaceTempView(\"reviews\")"
   ]
  },
  {
   "cell_type": "code",
   "execution_count": 38,
   "metadata": {},
   "outputs": [
    {
     "name": "stdout",
     "output_type": "stream",
     "text": [
      "+--------------------+----+----------+-----+--------------------+-----+--------------------+------+--------------------+-------------------+-----+-------+--------------------+----+\n",
      "|         business_id|cool|      date|funny|           review_id|stars|                text|useful|             user_id|                 ts|month|cluster|   metropolitan_area|year|\n",
      "+--------------------+----+----------+-----+--------------------+-----+--------------------+------+--------------------+-------------------+-----+-------+--------------------+----+\n",
      "|Q2TyugW7F2OzIwUV2...|   0|2019-09-07|    0|1whFwxVBGhmxL67xs...|  1.0|Found their plant...|     3|xVxH9e4-4uwb5eCI2...|2019-09-07 16:59:10|    9|      3|Cambridge, Masach...|2019|\n",
      "|KCU9Sc7l5qsr_eD7J...|   0|2019-08-23|    0|JpxeDl3r4iKnAAFcr...|  1.0|Do not join this ...|     6|j9wHDTA2nyobUBbXj...|2019-08-23 15:10:18|    8|      3|Cambridge, Masach...|2019|\n",
      "|8tP7pJ7L08gW5oVf4...|   0|2019-06-10|    0|6cBwa7680EBJia9xo...|  5.0|Green Street Stud...|     2|OPFzlP9oc8I4EFnws...|2019-06-10 15:14:59|    6|      3|Cambridge, Masach...|2019|\n",
      "|1D_IH8YET76bIvZua...|   1|2019-02-21|    1|ZcARGEveYvStaUKlp...|  5.0|Hi! I've never le...|     1|gyBlzHRJq2f3-xTqR...|2019-02-21 22:41:45|    2|      3|Cambridge, Masach...|2019|\n",
      "|rpIRK9g0uM7Mao5jB...|   0|2019-02-03|    0|4KohBSgdF2IoTmRft...|  5.0|Absolutely adore ...|     0|h7mAb2IkUK4K5V3cp...|2019-02-03 00:26:13|    2|      3|Cambridge, Masach...|2019|\n",
      "+--------------------+----+----------+-----+--------------------+-----+--------------------+------+--------------------+-------------------+-----+-------+--------------------+----+\n",
      "\n"
     ]
    }
   ],
   "source": [
    "spark.sql(\"SELECT * FROM reviews LIMIT 5\").show()"
   ]
  },
  {
   "cell_type": "markdown",
   "metadata": {},
   "source": [
    "- Sample of aggregated number of reviews and average stars."
   ]
  },
  {
   "cell_type": "code",
   "execution_count": 42,
   "metadata": {},
   "outputs": [
    {
     "name": "stdout",
     "output_type": "stream",
     "text": [
      "+-------+--------------------+----+---------+------------------+\n",
      "|cluster|         business_id|year|n_reviews|         avg_stars|\n",
      "+-------+--------------------+----+---------+------------------+\n",
      "|      3|Bz0DP2_fqiqVr71TJ...|2019|        8|               5.0|\n",
      "|      3|69vSJWuH1P5PHIUKe...|2019|        4|               5.0|\n",
      "|      3|MTMmKZ4vrV2yQWv49...|2019|        8|               2.5|\n",
      "|      3|15Vv8Qu-s88jdo4bO...|2019|        8|               3.0|\n",
      "|      3|QEgr1OlOTM2IMOffW...|2019|        3|1.3333333333333333|\n",
      "|      3|JPUYmvHckHv52FIiQ...|2019|        2|               5.0|\n",
      "|      3|wg-c2a32AYw0GSAwW...|2019|        2|               4.5|\n",
      "|      3|ln1WDofTbNGKGBcA6...|2019|        1|               4.0|\n",
      "|      3|wtCq0SMdbP8ZNaw8S...|2019|        2|               5.0|\n",
      "|      3|F-D7rT6vK93dYb_cN...|2019|        3|               1.0|\n",
      "|      3|nsRsHn76FjAnTcTrY...|2019|        2|               3.0|\n",
      "|      3|SsBcBPDTdij-COHsg...|2019|        5|               4.8|\n",
      "|      5|wrExYMc1FFDjp2lK-...|2019|      115|3.3391304347826085|\n",
      "|      5|9BLyJP2zyI-wuX8yw...|2019|       36| 4.222222222222222|\n",
      "|      5|930WurRpSF3pFNWAD...|2019|        5|               1.8|\n",
      "|      5|Xh9HLbSDWPw2GhZQh...|2019|       21|3.5238095238095237|\n",
      "|      5|TWpRxHfOpEgjoGYin...|2019|       10|               2.4|\n",
      "|      5|jedfxbiiQ-QHb9rDU...|2019|        1|               5.0|\n",
      "|      5|P1EnsiO1laP7ildqs...|2019|        1|               5.0|\n",
      "|      3|eDkiQIeSBvPAlqYNS...|2019|        6|2.3333333333333335|\n",
      "+-------+--------------------+----+---------+------------------+\n",
      "only showing top 20 rows\n",
      "\n"
     ]
    }
   ],
   "source": [
    "spark.sql(\n",
    "    \"\"\"\n",
    "    SELECT \n",
    "        cluster, business_id, year,\n",
    "        COUNT(review_id) AS n_reviews,\n",
    "        AVG(stars) AS avg_stars\n",
    "    FROM reviews\n",
    "    GROUP BY cluster, business_id, year\n",
    "    \"\"\"\n",
    ").show()"
   ]
  },
  {
   "cell_type": "markdown",
   "metadata": {},
   "source": [
    "## Business with most checkins"
   ]
  },
  {
   "cell_type": "markdown",
   "metadata": {},
   "source": [
    "- Sample of checkins."
   ]
  },
  {
   "cell_type": "code",
   "execution_count": 43,
   "metadata": {},
   "outputs": [],
   "source": [
    "sdf_checkin = spark.read.parquet(\"data/output/yelp_academic_dataset_checkin.parquet\")"
   ]
  },
  {
   "cell_type": "code",
   "execution_count": 44,
   "metadata": {},
   "outputs": [],
   "source": [
    "sdf_checkin.createOrReplaceTempView(\"checkin\")"
   ]
  },
  {
   "cell_type": "code",
   "execution_count": 45,
   "metadata": {},
   "outputs": [
    {
     "name": "stdout",
     "output_type": "stream",
     "text": [
      "+--------------------+----------+--------------------+-------------------+-----+---+---------+----+------+-------+--------------------+----+\n",
      "|         business_id|      date|               date2|                 ts|month|day|dayofweek|hour|minute|cluster|   metropolitan_area|year|\n",
      "+--------------------+----------+--------------------+-------------------+-----+---+---------+----+------+-------+--------------------+----+\n",
      "|K722e1j-5oGqRcKXO...|2015-01-01| 2015-01-01 05:41:57|2015-01-01 05:41:57|    1|  1|        5|   5|    41|      2|Portland, Oregon ...|2015|\n",
      "|FoIiSjDxJ19XRH5gH...|2015-01-08| 2015-01-08 12:48:30|2015-01-08 12:48:30|    1|  8|        5|  12|    48|      2|Portland, Oregon ...|2015|\n",
      "|K722e1j-5oGqRcKXO...|2015-01-01| 2015-01-01 06:25:22|2015-01-01 06:25:22|    1|  1|        5|   6|    25|      2|Portland, Oregon ...|2015|\n",
      "|FoIiSjDxJ19XRH5gH...|2015-04-03| 2015-04-03 12:43:21|2015-04-03 12:43:21|    4|  3|        6|  12|    43|      2|Portland, Oregon ...|2015|\n",
      "|K722e1j-5oGqRcKXO...|2015-01-01| 2015-01-01 09:05:45|2015-01-01 09:05:45|    1|  1|        5|   9|     5|      2|Portland, Oregon ...|2015|\n",
      "+--------------------+----------+--------------------+-------------------+-----+---+---------+----+------+-------+--------------------+----+\n",
      "\n"
     ]
    }
   ],
   "source": [
    "spark.sql(\"SELECT * FROM checkin LIMIT 5\").show()"
   ]
  },
  {
   "cell_type": "code",
   "execution_count": 48,
   "metadata": {},
   "outputs": [
    {
     "name": "stdout",
     "output_type": "stream",
     "text": [
      "+-------+--------------------+----+---------+\n",
      "|cluster|         business_id|year|n_checkin|\n",
      "+-------+--------------------+----+---------+\n",
      "|      2|KDerPgfAZePKxu-sY...|2015|       93|\n",
      "|      2|KMu7yG54tGVDh_b7V...|2015|       20|\n",
      "|      2|J046_FLK5j2cIVx8v...|2015|      108|\n",
      "|      2|KpXGfV5ux5cYLvMYN...|2015|        4|\n",
      "|      2|LENZ1Vo2ecXwmFbEc...|2015|       14|\n",
      "|      2|Eye5yKgBflxK92B9_...|2015|        8|\n",
      "|      2|HfJwqKZAYtstHUTDz...|2015|        5|\n",
      "|      2|GSDQWamRrcFiNUgIL...|2015|       35|\n",
      "|      2|GbmddUOKysuo2C36C...|2015|        3|\n",
      "|      2|JarPA4IR-RKEEU0TJ...|2015|        6|\n",
      "|      2|JdJ1pd0XEdxzgQo7d...|2015|        3|\n",
      "|      2|K3fAPfeShRHlLVWru...|2015|        4|\n",
      "|      2|LT7e-DuKRDIApNoz5...|2015|        2|\n",
      "|      2|LcDe4KGatn-aXCwvx...|2015|        1|\n",
      "|      2|HEhoEVtp2CrpkZ65a...|2015|       25|\n",
      "|      2|EKai4ZIR75S9hKHXV...|2015|        1|\n",
      "|      2|Kuo5Pfrj7ngK6y30c...|2014|        2|\n",
      "|      2|Evg5cP5MpZgHhGOcF...|2014|        7|\n",
      "|      2|GzuWpn697Cz-VBPCU...|2014|       12|\n",
      "|      2|HMJu7NHRCqHBcdFdf...|2013|        2|\n",
      "+-------+--------------------+----+---------+\n",
      "only showing top 20 rows\n",
      "\n"
     ]
    }
   ],
   "source": [
    "spark.sql(\n",
    "    \"\"\"\n",
    "    SELECT \n",
    "        cluster,\n",
    "        business_id,\n",
    "        year,\n",
    "        COUNT(*) AS n_checkin\n",
    "    FROM checkin \n",
    "    GROUP BY cluster, business_id, year \n",
    "    \"\"\"\n",
    ").show()"
   ]
  },
  {
   "cell_type": "code",
   "execution_count": 51,
   "metadata": {},
   "outputs": [
    {
     "data": {
      "text/plain": [
       "763398"
      ]
     },
     "execution_count": 51,
     "metadata": {},
     "output_type": "execute_result"
    }
   ],
   "source": [
    "spark.sql(\n",
    "    \"\"\"\n",
    "    SELECT \n",
    "        cluster,\n",
    "        business_id,\n",
    "        year,\n",
    "        COUNT(*) AS n_checkin\n",
    "    FROM checkin \n",
    "    GROUP BY cluster, business_id, year \n",
    "    \"\"\"\n",
    ").count()"
   ]
  },
  {
   "cell_type": "code",
   "execution_count": null,
   "metadata": {},
   "outputs": [],
   "source": [
    "spark.stop()"
   ]
  }
 ],
 "metadata": {
  "kernelspec": {
   "display_name": "Python 3",
   "language": "python",
   "name": "python3"
  },
  "language_info": {
   "codemirror_mode": {
    "name": "ipython",
    "version": 3
   },
   "file_extension": ".py",
   "mimetype": "text/x-python",
   "name": "python",
   "nbconvert_exporter": "python",
   "pygments_lexer": "ipython3",
   "version": "3.8.0"
  }
 },
 "nbformat": 4,
 "nbformat_minor": 4
}
