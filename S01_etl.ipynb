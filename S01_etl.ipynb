{
 "cells": [
  {
   "cell_type": "code",
   "execution_count": 1,
   "metadata": {},
   "outputs": [],
   "source": [
    "import pandas as pd\n",
    "import pyspark\n",
    "import pyspark.sql.functions as F\n",
    "from pyspark.sql.functions import split, col, explode, to_date, unix_timestamp, to_timestamp, year, month, dayofmonth, dayofweek, hour, minute, lower"
   ]
  },
  {
   "cell_type": "markdown",
   "metadata": {},
   "source": [
    "# ETL"
   ]
  },
  {
   "cell_type": "markdown",
   "metadata": {},
   "source": [
    "## Create a cluster"
   ]
  },
  {
   "cell_type": "code",
   "execution_count": 2,
   "metadata": {},
   "outputs": [],
   "source": [
    "## Launch Amazon EMR Cluster\n",
    "#!aws emr create-cluster \\\n",
    "#    --name etl_yelp_cluster \\\n",
    "#    --use-default-roles \\\n",
    "#    --release-label emr-5.28.0  \\\n",
    "#    --instance-count 3 \\\n",
    "#    --applications Name=Spark \\\n",
    "#    --ec2-attributes KeyName=spark_etl_yelp_cluster,SubnetId=subnet-04a815f2d9bdc8b44 \\\n",
    "#    --instance-type m5.xlarge \\\n",
    "#    --profile yelp"
   ]
  },
  {
   "cell_type": "code",
   "execution_count": 3,
   "metadata": {},
   "outputs": [],
   "source": [
    "from pyspark.sql import SparkSession\n",
    "spark = (\n",
    "    SparkSession\n",
    "        .builder\n",
    "        .appName(\"etl\")\n",
    "        .config(\"spark.driver.memory\", \"8g\")\n",
    "        .getOrCreate()\n",
    "    \n",
    ")"
   ]
  },
  {
   "cell_type": "markdown",
   "metadata": {},
   "source": [
    "## Read data and convert to parquet"
   ]
  },
  {
   "cell_type": "markdown",
   "metadata": {},
   "source": [
    "### Business dataset"
   ]
  },
  {
   "cell_type": "code",
   "execution_count": 4,
   "metadata": {},
   "outputs": [],
   "source": [
    "sdf_business = spark.read.json(\"data/input/yelp_academic_dataset_business.json\")"
   ]
  },
  {
   "cell_type": "code",
   "execution_count": 5,
   "metadata": {},
   "outputs": [
    {
     "name": "stdout",
     "output_type": "stream",
     "text": [
      "root\n",
      " |-- address: string (nullable = true)\n",
      " |-- attributes: struct (nullable = true)\n",
      " |    |-- AcceptsInsurance: string (nullable = true)\n",
      " |    |-- AgesAllowed: string (nullable = true)\n",
      " |    |-- Alcohol: string (nullable = true)\n",
      " |    |-- Ambience: string (nullable = true)\n",
      " |    |-- BYOB: string (nullable = true)\n",
      " |    |-- BYOBCorkage: string (nullable = true)\n",
      " |    |-- BestNights: string (nullable = true)\n",
      " |    |-- BikeParking: string (nullable = true)\n",
      " |    |-- BusinessAcceptsBitcoin: string (nullable = true)\n",
      " |    |-- BusinessAcceptsCreditCards: string (nullable = true)\n",
      " |    |-- BusinessParking: string (nullable = true)\n",
      " |    |-- ByAppointmentOnly: string (nullable = true)\n",
      " |    |-- Caters: string (nullable = true)\n",
      " |    |-- CoatCheck: string (nullable = true)\n",
      " |    |-- Corkage: string (nullable = true)\n",
      " |    |-- DietaryRestrictions: string (nullable = true)\n",
      " |    |-- DogsAllowed: string (nullable = true)\n",
      " |    |-- DriveThru: string (nullable = true)\n",
      " |    |-- GoodForDancing: string (nullable = true)\n",
      " |    |-- GoodForKids: string (nullable = true)\n",
      " |    |-- GoodForMeal: string (nullable = true)\n",
      " |    |-- HairSpecializesIn: string (nullable = true)\n",
      " |    |-- HappyHour: string (nullable = true)\n",
      " |    |-- HasTV: string (nullable = true)\n",
      " |    |-- Music: string (nullable = true)\n",
      " |    |-- NoiseLevel: string (nullable = true)\n",
      " |    |-- Open24Hours: string (nullable = true)\n",
      " |    |-- OutdoorSeating: string (nullable = true)\n",
      " |    |-- RestaurantsAttire: string (nullable = true)\n",
      " |    |-- RestaurantsCounterService: string (nullable = true)\n",
      " |    |-- RestaurantsDelivery: string (nullable = true)\n",
      " |    |-- RestaurantsGoodForGroups: string (nullable = true)\n",
      " |    |-- RestaurantsPriceRange2: string (nullable = true)\n",
      " |    |-- RestaurantsReservations: string (nullable = true)\n",
      " |    |-- RestaurantsTableService: string (nullable = true)\n",
      " |    |-- RestaurantsTakeOut: string (nullable = true)\n",
      " |    |-- Smoking: string (nullable = true)\n",
      " |    |-- WheelchairAccessible: string (nullable = true)\n",
      " |    |-- WiFi: string (nullable = true)\n",
      " |-- business_id: string (nullable = true)\n",
      " |-- categories: string (nullable = true)\n",
      " |-- city: string (nullable = true)\n",
      " |-- hours: struct (nullable = true)\n",
      " |    |-- Friday: string (nullable = true)\n",
      " |    |-- Monday: string (nullable = true)\n",
      " |    |-- Saturday: string (nullable = true)\n",
      " |    |-- Sunday: string (nullable = true)\n",
      " |    |-- Thursday: string (nullable = true)\n",
      " |    |-- Tuesday: string (nullable = true)\n",
      " |    |-- Wednesday: string (nullable = true)\n",
      " |-- is_open: long (nullable = true)\n",
      " |-- latitude: double (nullable = true)\n",
      " |-- longitude: double (nullable = true)\n",
      " |-- name: string (nullable = true)\n",
      " |-- postal_code: string (nullable = true)\n",
      " |-- review_count: long (nullable = true)\n",
      " |-- stars: double (nullable = true)\n",
      " |-- state: string (nullable = true)\n",
      "\n"
     ]
    }
   ],
   "source": [
    "sdf_business.printSchema()"
   ]
  },
  {
   "cell_type": "code",
   "execution_count": 6,
   "metadata": {},
   "outputs": [],
   "source": [
    "def flatten_df(nested_df):\n",
    "    flat_cols = [c[0] for c in nested_df.dtypes if c[1][:6] != 'struct']\n",
    "    nested_cols = [c[0] for c in nested_df.dtypes if c[1][:6] == 'struct']\n",
    "\n",
    "    flat_df = nested_df.select(flat_cols +\n",
    "                               [F.col(nc+'.'+c).alias(nc+'_'+c)\n",
    "                                for nc in nested_cols\n",
    "                                for c in nested_df.select(nc+'.*').columns])\n",
    "    return flat_df"
   ]
  },
  {
   "cell_type": "code",
   "execution_count": 7,
   "metadata": {},
   "outputs": [
    {
     "name": "stdout",
     "output_type": "stream",
     "text": [
      "root\n",
      " |-- address: string (nullable = true)\n",
      " |-- business_id: string (nullable = true)\n",
      " |-- categories: string (nullable = true)\n",
      " |-- city: string (nullable = true)\n",
      " |-- is_open: long (nullable = true)\n",
      " |-- latitude: double (nullable = true)\n",
      " |-- longitude: double (nullable = true)\n",
      " |-- name: string (nullable = true)\n",
      " |-- postal_code: string (nullable = true)\n",
      " |-- review_count: long (nullable = true)\n",
      " |-- stars: double (nullable = true)\n",
      " |-- state: string (nullable = true)\n",
      " |-- attributes_AcceptsInsurance: string (nullable = true)\n",
      " |-- attributes_AgesAllowed: string (nullable = true)\n",
      " |-- attributes_Alcohol: string (nullable = true)\n",
      " |-- attributes_Ambience: string (nullable = true)\n",
      " |-- attributes_BYOB: string (nullable = true)\n",
      " |-- attributes_BYOBCorkage: string (nullable = true)\n",
      " |-- attributes_BestNights: string (nullable = true)\n",
      " |-- attributes_BikeParking: string (nullable = true)\n",
      " |-- attributes_BusinessAcceptsBitcoin: string (nullable = true)\n",
      " |-- attributes_BusinessAcceptsCreditCards: string (nullable = true)\n",
      " |-- attributes_BusinessParking: string (nullable = true)\n",
      " |-- attributes_ByAppointmentOnly: string (nullable = true)\n",
      " |-- attributes_Caters: string (nullable = true)\n",
      " |-- attributes_CoatCheck: string (nullable = true)\n",
      " |-- attributes_Corkage: string (nullable = true)\n",
      " |-- attributes_DietaryRestrictions: string (nullable = true)\n",
      " |-- attributes_DogsAllowed: string (nullable = true)\n",
      " |-- attributes_DriveThru: string (nullable = true)\n",
      " |-- attributes_GoodForDancing: string (nullable = true)\n",
      " |-- attributes_GoodForKids: string (nullable = true)\n",
      " |-- attributes_GoodForMeal: string (nullable = true)\n",
      " |-- attributes_HairSpecializesIn: string (nullable = true)\n",
      " |-- attributes_HappyHour: string (nullable = true)\n",
      " |-- attributes_HasTV: string (nullable = true)\n",
      " |-- attributes_Music: string (nullable = true)\n",
      " |-- attributes_NoiseLevel: string (nullable = true)\n",
      " |-- attributes_Open24Hours: string (nullable = true)\n",
      " |-- attributes_OutdoorSeating: string (nullable = true)\n",
      " |-- attributes_RestaurantsAttire: string (nullable = true)\n",
      " |-- attributes_RestaurantsCounterService: string (nullable = true)\n",
      " |-- attributes_RestaurantsDelivery: string (nullable = true)\n",
      " |-- attributes_RestaurantsGoodForGroups: string (nullable = true)\n",
      " |-- attributes_RestaurantsPriceRange2: string (nullable = true)\n",
      " |-- attributes_RestaurantsReservations: string (nullable = true)\n",
      " |-- attributes_RestaurantsTableService: string (nullable = true)\n",
      " |-- attributes_RestaurantsTakeOut: string (nullable = true)\n",
      " |-- attributes_Smoking: string (nullable = true)\n",
      " |-- attributes_WheelchairAccessible: string (nullable = true)\n",
      " |-- attributes_WiFi: string (nullable = true)\n",
      " |-- hours_Friday: string (nullable = true)\n",
      " |-- hours_Monday: string (nullable = true)\n",
      " |-- hours_Saturday: string (nullable = true)\n",
      " |-- hours_Sunday: string (nullable = true)\n",
      " |-- hours_Thursday: string (nullable = true)\n",
      " |-- hours_Tuesday: string (nullable = true)\n",
      " |-- hours_Wednesday: string (nullable = true)\n",
      "\n"
     ]
    }
   ],
   "source": [
    "sdf_business_flattened = flatten_df(sdf_business)\n",
    "sdf_business_flattened.printSchema()"
   ]
  },
  {
   "cell_type": "code",
   "execution_count": 8,
   "metadata": {},
   "outputs": [],
   "source": [
    "sdf_business_flattened.createOrReplaceTempView(\"business\")"
   ]
  },
  {
   "cell_type": "code",
   "execution_count": 9,
   "metadata": {},
   "outputs": [
    {
     "name": "stdout",
     "output_type": "stream",
     "text": [
      "+------------------+\n",
      "|count(business_id)|\n",
      "+------------------+\n",
      "|            160585|\n",
      "+------------------+\n",
      "\n"
     ]
    }
   ],
   "source": [
    "spark.sql(\"SELECT COUNT(business_id) FROM business\").show()"
   ]
  },
  {
   "cell_type": "code",
   "execution_count": 10,
   "metadata": {},
   "outputs": [
    {
     "name": "stdout",
     "output_type": "stream",
     "text": [
      "+------------------+\n",
      "|count(business_id)|\n",
      "+------------------+\n",
      "|            160585|\n",
      "+------------------+\n",
      "\n"
     ]
    }
   ],
   "source": [
    "spark.sql(\"SELECT DISTINCT COUNT(business_id) FROM business\").show()"
   ]
  },
  {
   "cell_type": "code",
   "execution_count": 11,
   "metadata": {},
   "outputs": [
    {
     "name": "stdout",
     "output_type": "stream",
     "text": [
      "+--------------------------+\n",
      "|count(DISTINCT categories)|\n",
      "+--------------------------+\n",
      "|                     88115|\n",
      "+--------------------------+\n",
      "\n"
     ]
    }
   ],
   "source": [
    "spark.sql(\"SELECT COUNT(DISTINCT categories) FROM business\").show()"
   ]
  },
  {
   "cell_type": "code",
   "execution_count": 12,
   "metadata": {},
   "outputs": [
    {
     "name": "stdout",
     "output_type": "stream",
     "text": [
      "+--------------------+---+\n",
      "|          categories|  n|\n",
      "+--------------------+---+\n",
      "|Beauty & Spas, Ha...|757|\n",
      "|  Restaurants, Pizza|748|\n",
      "|Hair Salons, Beau...|742|\n",
      "|  Pizza, Restaurants|740|\n",
      "|Beauty & Spas, Na...|734|\n",
      "|Nail Salons, Beau...|712|\n",
      "|  Coffee & Tea, Food|703|\n",
      "|  Food, Coffee & Tea|680|\n",
      "|Restaurants, Chinese|601|\n",
      "|Chinese, Restaurants|588|\n",
      "|Mexican, Restaurants|549|\n",
      "|Restaurants, Mexican|507|\n",
      "|Automotive, Auto ...|444|\n",
      "|Auto Repair, Auto...|422|\n",
      "|Financial Service...|390|\n",
      "|Home Services, Re...|363|\n",
      "|Banks & Credit Un...|347|\n",
      "|Real Estate, Home...|345|\n",
      "|Real Estate, Apar...|344|\n",
      "|Home Services, Ap...|342|\n",
      "+--------------------+---+\n",
      "only showing top 20 rows\n",
      "\n"
     ]
    }
   ],
   "source": [
    "spark.sql(\"SELECT categories, COUNT(*) AS n FROM business GROUP BY categories ORDER BY n DESC\").show()"
   ]
  },
  {
   "cell_type": "code",
   "execution_count": 13,
   "metadata": {},
   "outputs": [
    {
     "name": "stdout",
     "output_type": "stream",
     "text": [
      "+--------------------+\n",
      "|count(DISTINCT city)|\n",
      "+--------------------+\n",
      "|                 836|\n",
      "+--------------------+\n",
      "\n"
     ]
    }
   ],
   "source": [
    "spark.sql(\"SELECT COUNT(DISTINCT city) FROM business\").show()"
   ]
  },
  {
   "cell_type": "code",
   "execution_count": 14,
   "metadata": {},
   "outputs": [
    {
     "name": "stdout",
     "output_type": "stream",
     "text": [
      "+---------------+-----+\n",
      "|           city|    n|\n",
      "+---------------+-----+\n",
      "|         Austin|22416|\n",
      "|       Portland|18203|\n",
      "|      Vancouver|13330|\n",
      "|        Atlanta|12612|\n",
      "|        Orlando|10637|\n",
      "|         Boston| 8263|\n",
      "|       Columbus| 6634|\n",
      "|        Boulder| 2542|\n",
      "|      Cambridge| 2433|\n",
      "|      Beaverton| 2252|\n",
      "|       Richmond| 1791|\n",
      "|        Burnaby| 1725|\n",
      "|      Kissimmee| 1713|\n",
      "|        Decatur| 1411|\n",
      "|    Winter Park| 1288|\n",
      "|     Somerville| 1265|\n",
      "|         Quincy| 1093|\n",
      "|      Brookline|  986|\n",
      "|North Vancouver|  926|\n",
      "|         Tigard|  916|\n",
      "+---------------+-----+\n",
      "only showing top 20 rows\n",
      "\n"
     ]
    }
   ],
   "source": [
    "spark.sql(\"SELECT city, COUNT(*) AS n FROM business GROUP BY city ORDER BY n DESC\").show()"
   ]
  },
  {
   "cell_type": "code",
   "execution_count": 15,
   "metadata": {},
   "outputs": [
    {
     "name": "stdout",
     "output_type": "stream",
     "text": [
      "+---------------------+\n",
      "|count(DISTINCT state)|\n",
      "+---------------------+\n",
      "|                   31|\n",
      "+---------------------+\n",
      "\n"
     ]
    }
   ],
   "source": [
    "spark.sql(\"SELECT COUNT(DISTINCT state) FROM business\").show()"
   ]
  },
  {
   "cell_type": "code",
   "execution_count": 16,
   "metadata": {},
   "outputs": [
    {
     "name": "stdout",
     "output_type": "stream",
     "text": [
      "+-----+-----+\n",
      "|state|    n|\n",
      "+-----+-----+\n",
      "|   MA|36012|\n",
      "|   OR|25175|\n",
      "|   TX|24485|\n",
      "|   FL|21907|\n",
      "|   GA|18090|\n",
      "|   BC|17298|\n",
      "|   OH|11258|\n",
      "|   CO| 3198|\n",
      "|   WA| 3121|\n",
      "|   CA|   13|\n",
      "|   NH|    4|\n",
      "|   ON|    2|\n",
      "|   NY|    2|\n",
      "|   AZ|    2|\n",
      "|   VA|    2|\n",
      "|   DE|    1|\n",
      "|   KY|    1|\n",
      "|   IL|    1|\n",
      "|   ME|    1|\n",
      "|   NC|    1|\n",
      "+-----+-----+\n",
      "only showing top 20 rows\n",
      "\n"
     ]
    }
   ],
   "source": [
    "spark.sql(\"SELECT state, COUNT(*) AS n FROM business GROUP BY state ORDER BY n DESC\").show()"
   ]
  },
  {
   "cell_type": "markdown",
   "metadata": {},
   "source": [
    "### Metroplitan Areas\n",
    "\n",
    "This dataset does not exist in the original information. The catalog of metropolitan areas is built by running a Cluster Analysis using KMeans. We know from the documentation that the dataset includes locations from 8 metropolitan areas, so a KMeans cluster with 8 clusters is estimated. Then the average latitude and loingitude is calculated for each group and looked up in google maps to find out the metropolitan area and state."
   ]
  },
  {
   "cell_type": "code",
   "execution_count": 17,
   "metadata": {},
   "outputs": [],
   "source": [
    "df_business_points = (\n",
    "    spark.sql(\n",
    "        \"\"\"SELECT business_id, state, city, latitude, longitude \n",
    "        FROM business \n",
    "        ORDER BY state\"\"\")\n",
    "    .toPandas()\n",
    ")"
   ]
  },
  {
   "cell_type": "markdown",
   "metadata": {},
   "source": [
    "No Null values were found."
   ]
  },
  {
   "cell_type": "code",
   "execution_count": 18,
   "metadata": {},
   "outputs": [
    {
     "data": {
      "text/plain": [
       "business_id    0\n",
       "state          0\n",
       "city           0\n",
       "latitude       0\n",
       "longitude      0\n",
       "dtype: int64"
      ]
     },
     "execution_count": 18,
     "metadata": {},
     "output_type": "execute_result"
    }
   ],
   "source": [
    "df_business_points.isnull().sum()"
   ]
  },
  {
   "cell_type": "markdown",
   "metadata": {},
   "source": [
    "Estimate clusters"
   ]
  },
  {
   "cell_type": "code",
   "execution_count": 19,
   "metadata": {},
   "outputs": [],
   "source": [
    "from sklearn.cluster import KMeans\n",
    "k = 9\n",
    "kmeans = KMeans(n_clusters=k, max_iter = 10000, random_state = 2502)\n",
    "df_business_points['cluster'] = kmeans.fit_predict(df_business_points[['latitude', 'longitude']])\n",
    "df_business_points['cluster'] = df_business_points.cluster.astype('category')"
   ]
  },
  {
   "cell_type": "code",
   "execution_count": 20,
   "metadata": {},
   "outputs": [
    {
     "data": {
      "text/plain": [
       "0    36021\n",
       "7    28301\n",
       "4    24487\n",
       "3    21913\n",
       "5    18094\n",
       "2    17305\n",
       "6    11262\n",
       "1     3201\n",
       "8        1\n",
       "Name: cluster, dtype: int64"
      ]
     },
     "execution_count": 20,
     "metadata": {},
     "output_type": "execute_result"
    }
   ],
   "source": [
    "df_business_points.cluster.value_counts()"
   ]
  },
  {
   "cell_type": "code",
   "execution_count": 21,
   "metadata": {},
   "outputs": [
    {
     "name": "stderr",
     "output_type": "stream",
     "text": [
      "/Users/dantegruizmartinez/.pyenv/versions/3.8.0/envs/udacity/lib/python3.8/site-packages/plotnine/layer.py:467: PlotnineWarning: geom_point : Removed 1 rows containing missing values.\n"
     ]
    },
    {
     "data": {
      "image/png": "[encoded data removed]",
      "text/plain": [
       "<Figure size 640x480 with 1 Axes>"
      ]
     },
     "metadata": {},
     "output_type": "display_data"
    },
    {
     "data": {
      "text/plain": [
       "<ggplot: (296552741)>"
      ]
     },
     "execution_count": 21,
     "metadata": {},
     "output_type": "execute_result"
    }
   ],
   "source": [
    "from plotnine import *\n",
    "(\n",
    "    ggplot(df_business_points, aes(x = 'longitude', y= 'latitude', color = 'cluster')) + \n",
    "    geom_point() + \n",
    "    scale_x_continuous(limits = [-150, -25]))"
   ]
  },
  {
   "cell_type": "code",
   "execution_count": 22,
   "metadata": {},
   "outputs": [
    {
     "data": {
      "text/html": [
       "<div>\n",
       "<style scoped>\n",
       "    .dataframe tbody tr th:only-of-type {\n",
       "        vertical-align: middle;\n",
       "    }\n",
       "\n",
       "    .dataframe tbody tr th {\n",
       "        vertical-align: top;\n",
       "    }\n",
       "\n",
       "    .dataframe thead th {\n",
       "        text-align: right;\n",
       "    }\n",
       "</style>\n",
       "<table border=\"1\" class=\"dataframe\">\n",
       "  <thead>\n",
       "    <tr style=\"text-align: right;\">\n",
       "      <th></th>\n",
       "      <th>cluster</th>\n",
       "      <th>latitude</th>\n",
       "      <th>longitude</th>\n",
       "      <th>metropolitan_area</th>\n",
       "    </tr>\n",
       "  </thead>\n",
       "  <tbody>\n",
       "    <tr>\n",
       "      <th>0</th>\n",
       "      <td>0</td>\n",
       "      <td>42.368284</td>\n",
       "      <td>-71.097355</td>\n",
       "      <td>Denver, Colorado</td>\n",
       "    </tr>\n",
       "    <tr>\n",
       "      <th>1</th>\n",
       "      <td>1</td>\n",
       "      <td>40.012371</td>\n",
       "      <td>-105.233104</td>\n",
       "      <td>Columbus, Ohio</td>\n",
       "    </tr>\n",
       "    <tr>\n",
       "      <th>2</th>\n",
       "      <td>2</td>\n",
       "      <td>49.252137</td>\n",
       "      <td>-123.069710</td>\n",
       "      <td>Portland, Oregon &amp; Vancouver, Washington</td>\n",
       "    </tr>\n",
       "    <tr>\n",
       "      <th>3</th>\n",
       "      <td>3</td>\n",
       "      <td>28.527385</td>\n",
       "      <td>-81.378905</td>\n",
       "      <td>Cambridge, Masachusetts</td>\n",
       "    </tr>\n",
       "    <tr>\n",
       "      <th>4</th>\n",
       "      <td>4</td>\n",
       "      <td>30.293938</td>\n",
       "      <td>-97.768996</td>\n",
       "      <td>Austin, Texas</td>\n",
       "    </tr>\n",
       "    <tr>\n",
       "      <th>5</th>\n",
       "      <td>5</td>\n",
       "      <td>33.813396</td>\n",
       "      <td>-84.371422</td>\n",
       "      <td>Orlando, Florida</td>\n",
       "    </tr>\n",
       "    <tr>\n",
       "      <th>6</th>\n",
       "      <td>6</td>\n",
       "      <td>40.028597</td>\n",
       "      <td>-82.996501</td>\n",
       "      <td>Atlanta, Georgia</td>\n",
       "    </tr>\n",
       "    <tr>\n",
       "      <th>7</th>\n",
       "      <td>7</td>\n",
       "      <td>45.514771</td>\n",
       "      <td>-122.666759</td>\n",
       "      <td>Vancouver, British Columbia</td>\n",
       "    </tr>\n",
       "    <tr>\n",
       "      <th>8</th>\n",
       "      <td>8</td>\n",
       "      <td>42.316877</td>\n",
       "      <td>71.113271</td>\n",
       "      <td>Cambridge, Masachusetts</td>\n",
       "    </tr>\n",
       "  </tbody>\n",
       "</table>\n",
       "</div>"
      ],
      "text/plain": [
       "  cluster   latitude   longitude                         metropolitan_area\n",
       "0       0  42.368284  -71.097355                          Denver, Colorado\n",
       "1       1  40.012371 -105.233104                            Columbus, Ohio\n",
       "2       2  49.252137 -123.069710  Portland, Oregon & Vancouver, Washington\n",
       "3       3  28.527385  -81.378905                   Cambridge, Masachusetts\n",
       "4       4  30.293938  -97.768996                             Austin, Texas\n",
       "5       5  33.813396  -84.371422                          Orlando, Florida\n",
       "6       6  40.028597  -82.996501                          Atlanta, Georgia\n",
       "7       7  45.514771 -122.666759               Vancouver, British Columbia\n",
       "8       8  42.316877   71.113271                   Cambridge, Masachusetts"
      ]
     },
     "execution_count": 22,
     "metadata": {},
     "output_type": "execute_result"
    }
   ],
   "source": [
    "metropolitan_areas = [\n",
    "    'Denver, Colorado', \n",
    "    'Columbus, Ohio',\n",
    "    'Portland, Oregon & Vancouver, Washington',\n",
    "    'Cambridge, Masachusetts',\n",
    "    'Austin, Texas',\n",
    "    'Orlando, Florida',\n",
    "    'Atlanta, Georgia',\n",
    "    'Vancouver, British Columbia',\n",
    "    'Cambridge, Masachusetts'\n",
    "]\n",
    "\n",
    "df_metro_area_catalog = (\n",
    "    df_business_points.groupby(['cluster'])\n",
    "        .mean()\n",
    "        .reset_index()\n",
    "        .assign(metropolitan_area = metropolitan_areas)\n",
    ")\n",
    "df_metro_area_catalog"
   ]
  },
  {
   "cell_type": "code",
   "execution_count": 23,
   "metadata": {},
   "outputs": [],
   "source": [
    "(\n",
    "    df_business_points[['business_id','cluster']]\n",
    "        .merge(df_metro_area_catalog[['cluster', 'metropolitan_area']], on = 'cluster')\n",
    "        .to_parquet(\"data/output/metropolitan_areas/business_and_metro_area_catalog.parquet\", index = False)\n",
    ")"
   ]
  },
  {
   "cell_type": "markdown",
   "metadata": {},
   "source": [
    "### Business data"
   ]
  },
  {
   "cell_type": "markdown",
   "metadata": {},
   "source": [
    "The business data was classified by metropolitan area, so the parquet file could be partitioned by metropolitan area. It makes sense to apply this optimization to the data, as queries will be done by geographic area."
   ]
  },
  {
   "cell_type": "code",
   "execution_count": 24,
   "metadata": {},
   "outputs": [],
   "source": [
    "sdf_business_metro_area = (\n",
    "    spark\n",
    "        .read\n",
    "        .parquet(\"data/output/metropolitan_areas/business_and_metro_area_catalog.parquet\")\n",
    ")"
   ]
  },
  {
   "cell_type": "code",
   "execution_count": 25,
   "metadata": {},
   "outputs": [],
   "source": [
    "sdf_business_cleaned = (\n",
    "    sdf_business_flattened\n",
    "        .withColumn('categories', lower(col('categories')))\n",
    "        .join(sdf_business_metro_area, on = 'business_id')\n",
    ")"
   ]
  },
  {
   "cell_type": "code",
   "execution_count": 26,
   "metadata": {},
   "outputs": [],
   "source": [
    "(\n",
    "    sdf_business_cleaned\n",
    "        .write\n",
    "        .parquet(\n",
    "            \"data/output/yelp_academic_dataset_business.parquet\", \n",
    "            partitionBy='metropolitan_area',\n",
    "        mode = 'overwrite')\n",
    ")"
   ]
  },
  {
   "cell_type": "markdown",
   "metadata": {},
   "source": [
    "### CheckIn dataset"
   ]
  },
  {
   "cell_type": "code",
   "execution_count": 27,
   "metadata": {},
   "outputs": [
    {
     "name": "stdout",
     "output_type": "stream",
     "text": [
      "root\n",
      " |-- business_id: string (nullable = true)\n",
      " |-- date: string (nullable = true)\n",
      "\n"
     ]
    }
   ],
   "source": [
    "sdf_checkin = spark.read.json(\"data/input/yelp_academic_dataset_checkin.json\")\n",
    "sdf_checkin.printSchema()"
   ]
  },
  {
   "cell_type": "markdown",
   "metadata": {},
   "source": [
    "Each entry in the dataset is a business. \n",
    "The column date is a string that contains all the checkins dates in that business_id."
   ]
  },
  {
   "cell_type": "code",
   "execution_count": 28,
   "metadata": {},
   "outputs": [],
   "source": [
    "sdf_checkin.createOrReplaceTempView('checkin')"
   ]
  },
  {
   "cell_type": "code",
   "execution_count": 29,
   "metadata": {},
   "outputs": [
    {
     "name": "stdout",
     "output_type": "stream",
     "text": [
      "+--------+\n",
      "|count(1)|\n",
      "+--------+\n",
      "|  138876|\n",
      "+--------+\n",
      "\n"
     ]
    }
   ],
   "source": [
    "spark.sql(\"SELECT COUNT(*) FROM checkin\").show()"
   ]
  },
  {
   "cell_type": "code",
   "execution_count": 30,
   "metadata": {},
   "outputs": [
    {
     "name": "stdout",
     "output_type": "stream",
     "text": [
      "+---------------------------------+\n",
      "|count(DISTINCT business_id, date)|\n",
      "+---------------------------------+\n",
      "|                           138876|\n",
      "+---------------------------------+\n",
      "\n"
     ]
    }
   ],
   "source": [
    "spark.sql(\"SELECT COUNT(DISTINCT *) FROM checkin\").show()"
   ]
  },
  {
   "cell_type": "code",
   "execution_count": 31,
   "metadata": {},
   "outputs": [
    {
     "data": {
      "text/html": [
       "<div>\n",
       "<style scoped>\n",
       "    .dataframe tbody tr th:only-of-type {\n",
       "        vertical-align: middle;\n",
       "    }\n",
       "\n",
       "    .dataframe tbody tr th {\n",
       "        vertical-align: top;\n",
       "    }\n",
       "\n",
       "    .dataframe thead th {\n",
       "        text-align: right;\n",
       "    }\n",
       "</style>\n",
       "<table border=\"1\" class=\"dataframe\">\n",
       "  <thead>\n",
       "    <tr style=\"text-align: right;\">\n",
       "      <th></th>\n",
       "      <th>date</th>\n",
       "    </tr>\n",
       "  </thead>\n",
       "  <tbody>\n",
       "    <tr>\n",
       "      <th>0</th>\n",
       "      <td>2017-09-03 17:13:59</td>\n",
       "    </tr>\n",
       "    <tr>\n",
       "      <th>1</th>\n",
       "      <td>2010-10-08 22:21:20, 2010-11-01 21:29:14, 2010...</td>\n",
       "    </tr>\n",
       "    <tr>\n",
       "      <th>2</th>\n",
       "      <td>2010-02-26 02:06:53, 2010-02-27 08:00:09, 2010...</td>\n",
       "    </tr>\n",
       "    <tr>\n",
       "      <th>3</th>\n",
       "      <td>2014-11-03 16:35:35, 2015-01-30 18:16:03, 2015...</td>\n",
       "    </tr>\n",
       "    <tr>\n",
       "      <th>4</th>\n",
       "      <td>2010-12-15 17:10:46, 2013-12-28 00:27:54, 2015...</td>\n",
       "    </tr>\n",
       "  </tbody>\n",
       "</table>\n",
       "</div>"
      ],
      "text/plain": [
       "                                                date\n",
       "0                                2017-09-03 17:13:59\n",
       "1  2010-10-08 22:21:20, 2010-11-01 21:29:14, 2010...\n",
       "2  2010-02-26 02:06:53, 2010-02-27 08:00:09, 2010...\n",
       "3  2014-11-03 16:35:35, 2015-01-30 18:16:03, 2015...\n",
       "4  2010-12-15 17:10:46, 2013-12-28 00:27:54, 2015..."
      ]
     },
     "execution_count": 31,
     "metadata": {},
     "output_type": "execute_result"
    }
   ],
   "source": [
    "spark.sql(\"SELECT date FROM checkin LIMIT 5\").toPandas()"
   ]
  },
  {
   "cell_type": "code",
   "execution_count": 32,
   "metadata": {},
   "outputs": [],
   "source": [
    "\n",
    "sdf_checkin_flattened = (\n",
    "    sdf_checkin\n",
    "        .withColumn(\"date2\", explode(split(\"date\", \",\")))\n",
    "        .withColumn(\"ts\", to_timestamp(\"date2\"))\n",
    "        .withColumn(\"date\", to_date(\"ts\"))\n",
    "        .withColumn(\"year\", year(\"ts\"))\n",
    "        .withColumn(\"month\", month(\"ts\"))\n",
    "        .withColumn(\"day\", dayofmonth(\"ts\"))\n",
    "        .withColumn(\"dayofweek\", dayofweek(\"ts\"))\n",
    "        .withColumn(\"hour\", hour(\"ts\"))\n",
    "        .withColumn(\"minute\", minute(\"ts\"))\n",
    ")"
   ]
  },
  {
   "cell_type": "code",
   "execution_count": 33,
   "metadata": {},
   "outputs": [
    {
     "name": "stdout",
     "output_type": "stream",
     "text": [
      "root\n",
      " |-- business_id: string (nullable = true)\n",
      " |-- date: date (nullable = true)\n",
      " |-- date2: string (nullable = true)\n",
      " |-- ts: timestamp (nullable = true)\n",
      " |-- year: integer (nullable = true)\n",
      " |-- month: integer (nullable = true)\n",
      " |-- day: integer (nullable = true)\n",
      " |-- dayofweek: integer (nullable = true)\n",
      " |-- hour: integer (nullable = true)\n",
      " |-- minute: integer (nullable = true)\n",
      "\n"
     ]
    }
   ],
   "source": [
    "sdf_checkin_flattened.printSchema()"
   ]
  },
  {
   "cell_type": "code",
   "execution_count": 34,
   "metadata": {},
   "outputs": [
    {
     "name": "stdout",
     "output_type": "stream",
     "text": [
      "+--------------------+----------+--------------------+-------------------+----+-----+---+---------+----+------+\n",
      "|         business_id|      date|               date2|                 ts|year|month|day|dayofweek|hour|minute|\n",
      "+--------------------+----------+--------------------+-------------------+----+-----+---+---------+----+------+\n",
      "|--0r8K_AQ4FZfLsX3...|2017-09-03| 2017-09-03 17:13:59|2017-09-03 17:13:59|2017|    9|  3|        1|  17|    13|\n",
      "|--0zrn43LEaB4jUWT...|2010-10-08| 2010-10-08 22:21:20|2010-10-08 22:21:20|2010|   10|  8|        6|  22|    21|\n",
      "|--0zrn43LEaB4jUWT...|2010-11-01| 2010-11-01 21:29:14|2010-11-01 21:29:14|2010|   11|  1|        2|  21|    29|\n",
      "|--0zrn43LEaB4jUWT...|2010-12-23| 2010-12-23 22:55:45|2010-12-23 22:55:45|2010|   12| 23|        5|  22|    55|\n",
      "|--0zrn43LEaB4jUWT...|2011-04-08| 2011-04-08 17:14:59|2011-04-08 17:14:59|2011|    4|  8|        6|  17|    14|\n",
      "+--------------------+----------+--------------------+-------------------+----+-----+---+---------+----+------+\n",
      "only showing top 5 rows\n",
      "\n"
     ]
    }
   ],
   "source": [
    "sdf_checkin_flattened.show(5)"
   ]
  },
  {
   "cell_type": "code",
   "execution_count": 35,
   "metadata": {},
   "outputs": [
    {
     "name": "stdout",
     "output_type": "stream",
     "text": [
      "+----+-------+\n",
      "|year|  count|\n",
      "+----+-------+\n",
      "|2018|1523053|\n",
      "|2015|2350194|\n",
      "|2013|2274630|\n",
      "|2014|2276420|\n",
      "|2019|1287774|\n",
      "|2020| 543039|\n",
      "|2012|2174763|\n",
      "|2016|2137483|\n",
      "|2010| 545818|\n",
      "|2011|1658762|\n",
      "|2017|1838158|\n",
      "|2021|  31198|\n",
      "+----+-------+\n",
      "\n"
     ]
    }
   ],
   "source": [
    "sdf_checkin_flattened.groupby('year').count().show()"
   ]
  },
  {
   "cell_type": "code",
   "execution_count": 36,
   "metadata": {},
   "outputs": [
    {
     "name": "stdout",
     "output_type": "stream",
     "text": [
      "+--------------------+----------+--------------------+-------------------+----+-----+---+---------+----+------+\n",
      "|         business_id|      date|               date2|                 ts|year|month|day|dayofweek|hour|minute|\n",
      "+--------------------+----------+--------------------+-------------------+----+-----+---+---------+----+------+\n",
      "|--Q3mAcX9t63f7Xcb...|2021-01-05| 2021-01-05 22:21:47|2021-01-05 22:21:47|2021|    1|  5|        3|  22|    21|\n",
      "|--Q3mAcX9t63f7Xcb...|2021-01-07| 2021-01-07 21:54:19|2021-01-07 21:54:19|2021|    1|  7|        5|  21|    54|\n",
      "|--Q3mAcX9t63f7Xcb...|2021-01-07| 2021-01-07 22:07:11|2021-01-07 22:07:11|2021|    1|  7|        5|  22|     7|\n",
      "|--Q3mAcX9t63f7Xcb...|2021-01-07| 2021-01-07 22:07:18|2021-01-07 22:07:18|2021|    1|  7|        5|  22|     7|\n",
      "|--Q3mAcX9t63f7Xcb...|2021-01-09| 2021-01-09 21:46:37|2021-01-09 21:46:37|2021|    1|  9|        7|  21|    46|\n",
      "|--Q3mAcX9t63f7Xcb...|2021-01-14| 2021-01-14 17:31:45|2021-01-14 17:31:45|2021|    1| 14|        5|  17|    31|\n",
      "|--Q3mAcX9t63f7Xcb...|2021-01-15| 2021-01-15 18:49:52|2021-01-15 18:49:52|2021|    1| 15|        6|  18|    49|\n",
      "|--Q3mAcX9t63f7Xcb...|2021-01-25| 2021-01-25 19:11:17|2021-01-25 19:11:17|2021|    1| 25|        2|  19|    11|\n",
      "|--hkbIWgBKBOZq4Vc...|2021-01-17| 2021-01-17 19:38:24|2021-01-17 19:38:24|2021|    1| 17|        1|  19|    38|\n",
      "|-0Ym4ES46_Yc-vZB9...|2021-01-16| 2021-01-16 02:21:43|2021-01-16 02:21:43|2021|    1| 16|        7|   2|    21|\n",
      "|-0Ym4ES46_Yc-vZB9...|2021-01-23| 2021-01-23 23:46:18|2021-01-23 23:46:18|2021|    1| 23|        7|  23|    46|\n",
      "|-0d5juVzvVE5Ln86Q...|2021-01-16| 2021-01-16 01:55:28|2021-01-16 01:55:28|2021|    1| 16|        7|   1|    55|\n",
      "|-1ShItlulHnBsoOQW...|2021-01-02| 2021-01-02 19:35:40|2021-01-02 19:35:40|2021|    1|  2|        7|  19|    35|\n",
      "|-1ShItlulHnBsoOQW...|2021-01-04| 2021-01-04 02:18:10|2021-01-04 02:18:10|2021|    1|  4|        2|   2|    18|\n",
      "|-1ShItlulHnBsoOQW...|2021-01-10| 2021-01-10 00:01:06|2021-01-10 00:01:06|2021|    1| 10|        1|   0|     1|\n",
      "|-1ShItlulHnBsoOQW...|2021-01-15| 2021-01-15 01:41:26|2021-01-15 01:41:26|2021|    1| 15|        6|   1|    41|\n",
      "|-1ShItlulHnBsoOQW...|2021-01-18| 2021-01-18 01:51:12|2021-01-18 01:51:12|2021|    1| 18|        2|   1|    51|\n",
      "|-1ShItlulHnBsoOQW...|2021-01-21| 2021-01-21 23:52:45|2021-01-21 23:52:45|2021|    1| 21|        5|  23|    52|\n",
      "|-1jhQQ-SqTJO6tgSB...|2021-01-17| 2021-01-17 00:05:32|2021-01-17 00:05:32|2021|    1| 17|        1|   0|     5|\n",
      "|-1jtIOh2xgmynUjfz...|2021-01-16| 2021-01-16 17:01:45|2021-01-16 17:01:45|2021|    1| 16|        7|  17|     1|\n",
      "+--------------------+----------+--------------------+-------------------+----+-----+---+---------+----+------+\n",
      "only showing top 20 rows\n",
      "\n"
     ]
    }
   ],
   "source": [
    "sdf_checkin_flattened.filter(sdf_checkin_flattened.year == 2021).show()"
   ]
  },
  {
   "cell_type": "code",
   "execution_count": 37,
   "metadata": {},
   "outputs": [
    {
     "name": "stdout",
     "output_type": "stream",
     "text": [
      "root\n",
      " |-- business_id: string (nullable = true)\n",
      " |-- date: date (nullable = true)\n",
      " |-- date2: string (nullable = true)\n",
      " |-- ts: timestamp (nullable = true)\n",
      " |-- year: integer (nullable = true)\n",
      " |-- month: integer (nullable = true)\n",
      " |-- day: integer (nullable = true)\n",
      " |-- dayofweek: integer (nullable = true)\n",
      " |-- hour: integer (nullable = true)\n",
      " |-- minute: integer (nullable = true)\n",
      "\n"
     ]
    }
   ],
   "source": [
    "sdf_checkin_flattened.printSchema()"
   ]
  },
  {
   "cell_type": "code",
   "execution_count": 38,
   "metadata": {},
   "outputs": [],
   "source": [
    "sdf_checkin_cleaned =(\n",
    "    sdf_checkin_flattened\n",
    "        .join(sdf_business_metro_area, on = 'business_id')\n",
    ")\n",
    "(\n",
    "    sdf_checkin_cleaned\n",
    "        .write\n",
    "        .partitionBy('metropolitan_area', 'year')\n",
    "        .parquet(\"data/output/yelp_academic_dataset_checkin.parquet\", mode = 'overwrite')\n",
    ")"
   ]
  },
  {
   "cell_type": "code",
   "execution_count": null,
   "metadata": {},
   "outputs": [],
   "source": []
  },
  {
   "cell_type": "markdown",
   "metadata": {},
   "source": [
    "### Users dataset"
   ]
  },
  {
   "cell_type": "code",
   "execution_count": 39,
   "metadata": {},
   "outputs": [
    {
     "name": "stdout",
     "output_type": "stream",
     "text": [
      "root\n",
      " |-- average_stars: double (nullable = true)\n",
      " |-- compliment_cool: long (nullable = true)\n",
      " |-- compliment_cute: long (nullable = true)\n",
      " |-- compliment_funny: long (nullable = true)\n",
      " |-- compliment_hot: long (nullable = true)\n",
      " |-- compliment_list: long (nullable = true)\n",
      " |-- compliment_more: long (nullable = true)\n",
      " |-- compliment_note: long (nullable = true)\n",
      " |-- compliment_photos: long (nullable = true)\n",
      " |-- compliment_plain: long (nullable = true)\n",
      " |-- compliment_profile: long (nullable = true)\n",
      " |-- compliment_writer: long (nullable = true)\n",
      " |-- cool: long (nullable = true)\n",
      " |-- elite: string (nullable = true)\n",
      " |-- fans: long (nullable = true)\n",
      " |-- friends: string (nullable = true)\n",
      " |-- funny: long (nullable = true)\n",
      " |-- name: string (nullable = true)\n",
      " |-- review_count: long (nullable = true)\n",
      " |-- useful: long (nullable = true)\n",
      " |-- user_id: string (nullable = true)\n",
      " |-- yelping_since: string (nullable = true)\n",
      "\n"
     ]
    }
   ],
   "source": [
    "sdf_users = spark.read.json(\"data/input/yelp_academic_dataset_user.json\")\n",
    "sdf_users.printSchema()"
   ]
  },
  {
   "cell_type": "code",
   "execution_count": 40,
   "metadata": {},
   "outputs": [],
   "source": [
    "sdf_users.createOrReplaceTempView('users')"
   ]
  },
  {
   "cell_type": "code",
   "execution_count": 41,
   "metadata": {},
   "outputs": [
    {
     "name": "stdout",
     "output_type": "stream",
     "text": [
      "+--------------+\n",
      "|count(user_id)|\n",
      "+--------------+\n",
      "|       2189457|\n",
      "+--------------+\n",
      "\n"
     ]
    }
   ],
   "source": [
    "spark.sql('SELECT COUNT(user_id) FROM users').show()"
   ]
  },
  {
   "cell_type": "code",
   "execution_count": 42,
   "metadata": {},
   "outputs": [
    {
     "name": "stdout",
     "output_type": "stream",
     "text": [
      "+--------+\n",
      "|count(1)|\n",
      "+--------+\n",
      "| 2189457|\n",
      "+--------+\n",
      "\n"
     ]
    }
   ],
   "source": [
    "spark.sql('SELECT COUNT(*) FROM users').show()"
   ]
  },
  {
   "cell_type": "code",
   "execution_count": 43,
   "metadata": {},
   "outputs": [
    {
     "name": "stdout",
     "output_type": "stream",
     "text": [
      "+----+------+\n",
      "|year|     n|\n",
      "+----+------+\n",
      "|2021|  2673|\n",
      "|2020| 28835|\n",
      "|2019| 85451|\n",
      "|2018|126518|\n",
      "|2017|159533|\n",
      "|2016|229356|\n",
      "|2015|267516|\n",
      "|2014|265124|\n",
      "|2013|242864|\n",
      "|2012|233502|\n",
      "|2011|224158|\n",
      "|2010|148041|\n",
      "|2009| 94315|\n",
      "|2008| 47701|\n",
      "|2007| 23911|\n",
      "|2006|  8218|\n",
      "|2005|  1615|\n",
      "|2004|   126|\n",
      "+----+------+\n",
      "\n"
     ]
    }
   ],
   "source": [
    "spark.sql('SELECT EXTRACT(YEAR FROM yelping_since) AS year, COUNT(*) AS n FROM users GROUP BY EXTRACT(YEAR FROM yelping_since) ORDER BY year DESC').show()"
   ]
  },
  {
   "cell_type": "code",
   "execution_count": 44,
   "metadata": {},
   "outputs": [],
   "source": [
    "sdf_users_cleaned = (\n",
    "    sdf_users\n",
    "        .withColumn(\"ts\", to_timestamp(\"yelping_since\"))\n",
    "        .withColumn(\"year\", year(\"ts\"))\n",
    "        .withColumn(\"month\", month(\"ts\"))\n",
    ")"
   ]
  },
  {
   "cell_type": "code",
   "execution_count": 45,
   "metadata": {},
   "outputs": [
    {
     "data": {
      "text/plain": [
       "DataFrame[average_stars: double, compliment_cool: bigint, compliment_cute: bigint, compliment_funny: bigint, compliment_hot: bigint, compliment_list: bigint, compliment_more: bigint, compliment_note: bigint, compliment_photos: bigint, compliment_plain: bigint, compliment_profile: bigint, compliment_writer: bigint, cool: bigint, elite: string, fans: bigint, friends: string, funny: bigint, name: string, review_count: bigint, useful: bigint, user_id: string, yelping_since: string, ts: timestamp, year: int, month: int]"
      ]
     },
     "execution_count": 45,
     "metadata": {},
     "output_type": "execute_result"
    }
   ],
   "source": [
    "sdf_users_cleaned"
   ]
  },
  {
   "cell_type": "code",
   "execution_count": 46,
   "metadata": {},
   "outputs": [],
   "source": [
    "(\n",
    "    sdf_users_cleaned\n",
    "        .write\n",
    "        .parquet(\n",
    "            \"data/output/yelp_academic_dataset_user.parquet\", mode = 'overwrite'\n",
    "        )\n",
    ")"
   ]
  },
  {
   "cell_type": "markdown",
   "metadata": {},
   "source": [
    "### Tips dataset"
   ]
  },
  {
   "cell_type": "code",
   "execution_count": 47,
   "metadata": {},
   "outputs": [],
   "source": [
    "sdf_tip = spark.read.json(\"data/input/yelp_academic_dataset_tip.json\")"
   ]
  },
  {
   "cell_type": "code",
   "execution_count": 48,
   "metadata": {},
   "outputs": [
    {
     "name": "stdout",
     "output_type": "stream",
     "text": [
      "root\n",
      " |-- business_id: string (nullable = true)\n",
      " |-- compliment_count: long (nullable = true)\n",
      " |-- date: string (nullable = true)\n",
      " |-- text: string (nullable = true)\n",
      " |-- user_id: string (nullable = true)\n",
      "\n"
     ]
    }
   ],
   "source": [
    "sdf_tip.printSchema()"
   ]
  },
  {
   "cell_type": "code",
   "execution_count": 49,
   "metadata": {},
   "outputs": [
    {
     "name": "stdout",
     "output_type": "stream",
     "text": [
      "+--------------------+----------------+-------------------+--------------------+--------------------+\n",
      "|         business_id|compliment_count|               date|                text|             user_id|\n",
      "+--------------------+----------------+-------------------+--------------------+--------------------+\n",
      "|ENwBByjpoa5Gg7tKg...|               0|2011-07-22 19:07:35|Carne asada chips...|WCjg0jdHXMlwbqS9t...|\n",
      "|jKO4Og6ucdX2-YCTK...|               0|2014-09-10 07:33:29|Best happy hour f...|42-Z02y9bABShAGZh...|\n",
      "|9Bto7mky640ocgezV...|               0|2013-12-13 23:23:41|Nice people, skil...|5u7E3LYp_3eB8dLuU...|\n",
      "|XWFjKtRGZ9khRGtGg...|               0|2017-07-11 23:07:16|1/2-price bowling...|wDWoMG5N9oI4DJ-p7...|\n",
      "|mkrx0VhSMU3p3uhyJ...|               0|2016-11-30 08:46:36|Solid gold's. Gre...|JmuFlorjjRshHTKzT...|\n",
      "+--------------------+----------------+-------------------+--------------------+--------------------+\n",
      "only showing top 5 rows\n",
      "\n"
     ]
    }
   ],
   "source": [
    "sdf_tip.show(5)"
   ]
  },
  {
   "cell_type": "code",
   "execution_count": 50,
   "metadata": {},
   "outputs": [],
   "source": [
    "sdf_tip.createOrReplaceTempView(\"tips\")"
   ]
  },
  {
   "cell_type": "code",
   "execution_count": 51,
   "metadata": {},
   "outputs": [
    {
     "name": "stdout",
     "output_type": "stream",
     "text": [
      "+--------------------+----------------+-------------------+--------------------+--------------------+\n",
      "|         business_id|compliment_count|               date|                text|             user_id|\n",
      "+--------------------+----------------+-------------------+--------------------+--------------------+\n",
      "|ENwBByjpoa5Gg7tKg...|               0|2011-07-22 19:07:35|Carne asada chips...|WCjg0jdHXMlwbqS9t...|\n",
      "|jKO4Og6ucdX2-YCTK...|               0|2014-09-10 07:33:29|Best happy hour f...|42-Z02y9bABShAGZh...|\n",
      "|9Bto7mky640ocgezV...|               0|2013-12-13 23:23:41|Nice people, skil...|5u7E3LYp_3eB8dLuU...|\n",
      "|XWFjKtRGZ9khRGtGg...|               0|2017-07-11 23:07:16|1/2-price bowling...|wDWoMG5N9oI4DJ-p7...|\n",
      "|mkrx0VhSMU3p3uhyJ...|               0|2016-11-30 08:46:36|Solid gold's. Gre...|JmuFlorjjRshHTKzT...|\n",
      "+--------------------+----------------+-------------------+--------------------+--------------------+\n",
      "\n"
     ]
    }
   ],
   "source": [
    "spark.sql(\"SELECT * FROM tips LIMIT 5\").show()"
   ]
  },
  {
   "cell_type": "code",
   "execution_count": 52,
   "metadata": {},
   "outputs": [
    {
     "name": "stdout",
     "output_type": "stream",
     "text": [
      "+-------+\n",
      "|      n|\n",
      "+-------+\n",
      "|1162119|\n",
      "+-------+\n",
      "\n"
     ]
    }
   ],
   "source": [
    "spark.sql(\"SELECT COUNT(*) AS n FROM tips\").show()"
   ]
  },
  {
   "cell_type": "code",
   "execution_count": 53,
   "metadata": {},
   "outputs": [
    {
     "name": "stdout",
     "output_type": "stream",
     "text": [
      "+------------------+--------------+\n",
      "|unique_business_id|unique_user_id|\n",
      "+------------------+--------------+\n",
      "|            110915|        339244|\n",
      "+------------------+--------------+\n",
      "\n"
     ]
    }
   ],
   "source": [
    "spark.sql(\n",
    "    \"\"\"\n",
    "    SELECT \n",
    "        COUNT(DISTINCT business_id) AS unique_business_id, \n",
    "        COUNT(DISTINCT user_id) AS unique_user_id \n",
    "    FROM tips\n",
    "    \"\"\").show()"
   ]
  },
  {
   "cell_type": "code",
   "execution_count": 54,
   "metadata": {},
   "outputs": [
    {
     "name": "stdout",
     "output_type": "stream",
     "text": [
      "+--------------------+----------------+----------+--------------------+--------------------+-------------------+----+-----+-------+--------------------+\n",
      "|         business_id|compliment_count|      date|                text|             user_id|                 ts|year|month|cluster|   metropolitan_area|\n",
      "+--------------------+----------------+----------+--------------------+--------------------+-------------------+----+-----+-------+--------------------+\n",
      "|ENwBByjpoa5Gg7tKg...|               0|2011-07-22|Carne asada chips...|WCjg0jdHXMlwbqS9t...|2011-07-22 19:07:35|2011|    7|      7|Vancouver, Britis...|\n",
      "|jKO4Og6ucdX2-YCTK...|               0|2014-09-10|Best happy hour f...|42-Z02y9bABShAGZh...|2014-09-10 07:33:29|2014|    9|      2|Portland, Oregon ...|\n",
      "|9Bto7mky640ocgezV...|               0|2013-12-13|Nice people, skil...|5u7E3LYp_3eB8dLuU...|2013-12-13 23:23:41|2013|   12|      0|    Denver, Colorado|\n",
      "|XWFjKtRGZ9khRGtGg...|               0|2017-07-11|1/2-price bowling...|wDWoMG5N9oI4DJ-p7...|2017-07-11 23:07:16|2017|    7|      4|       Austin, Texas|\n",
      "|mkrx0VhSMU3p3uhyJ...|               0|2016-11-30|Solid gold's. Gre...|JmuFlorjjRshHTKzT...|2016-11-30 08:46:36|2016|   11|      4|       Austin, Texas|\n",
      "|VQftVUvHfMQdDTmnO...|               0|2010-03-22|Try a few differe...|MHmKe1NQ1pCpIrbK4...|2010-03-22 21:40:26|2010|    3|      5|    Orlando, Florida|\n",
      "|2PxZ-fICnd432NJHe...|               0|2011-10-08|On The Border was...|S5tOE7JAvaeXBEibn...|2011-10-08 17:14:20|2011|   10|      3|Cambridge, Masach...|\n",
      "|oQyf1788YWsiDLupG...|               0|2015-06-09|Cold cuts are the...|fTsVDajAyDJ-YzsSd...|2015-06-09 14:35:57|2015|    6|      0|    Denver, Colorado|\n",
      "|OQ2oHkcWA8KNC1Lsv...|               0|2018-03-22|Water Ave coffee ...|g3HFkZgloxLQCvoJ5...|2018-03-22 15:28:09|2018|    3|      7|Vancouver, Britis...|\n",
      "|Wqetc51pFQzz04SXh...|               0|2014-06-07|          So busy...|sNVpZLDSlCudlXLsn...|2014-06-07 12:09:55|2014|    6|      3|Cambridge, Masach...|\n",
      "|EUOuLlhkf1PBM9G9r...|               0|2011-12-24|Most important 1 ...|tOFEtck_Xnj7y0VzX...|2011-12-24 06:32:37|2011|   12|      7|Vancouver, Britis...|\n",
      "|2fkTxtF59cYdktacQ...|               0|2013-02-04|Good food, nicely...|cpCfHpe9nz75MrNk6...|2013-02-04 06:49:01|2013|    2|      5|    Orlando, Florida|\n",
      "|tdIyREwlre3SVU41a...|               0|2014-03-16|Clam chowder is f...|TOkW-RuqftALEh8E9...|2014-03-16 18:01:55|2014|    3|      0|    Denver, Colorado|\n",
      "|7d3IefhfwjcbTF-Uy...|               0|2012-07-25|French Dessert! L...|-idPg_CrUNFx1xAC6...|2012-07-25 04:15:23|2012|    7|      7|Vancouver, Britis...|\n",
      "|QVVoIHWggdCxZuZQj...|               0|2011-07-16|The Phoenix roll ...|-2sNTzGyci98Mp9Pm...|2011-07-16 23:47:13|2011|    7|      4|       Austin, Texas|\n",
      "|hbDKYaGZOtZ7eWSKW...|               0|2014-06-12|It's really too b...|xEavPFO_QOAShMNHU...|2014-06-12 12:09:21|2014|    6|      7|Vancouver, Britis...|\n",
      "|2GWpiXnnEkVUu2GhB...|               0|2015-02-11|A good place for ...|LS-ni76eRxoIuWdf0...|2015-02-11 16:17:37|2015|    2|      5|    Orlando, Florida|\n",
      "|EJoF5eoM0S15O0o6f...|               0|2017-07-07|This establishmen...|FUREfCAYsNeA5Plzf...|2017-07-07 00:48:40|2017|    7|      3|Cambridge, Masach...|\n",
      "|mdMBk395zOCKmrl5H...|               0|2012-07-24|Yea live music an...|yS5vxmUttpTA6Ckpn...|2012-07-24 02:21:00|2012|    7|      0|    Denver, Colorado|\n",
      "|uLihBq095KIQC92Ps...|               0|2012-05-22| Awesome sandwiches!|jyVg_gb6y86iiRoTi...|2012-05-22 18:53:14|2012|    5|      4|       Austin, Texas|\n",
      "+--------------------+----------------+----------+--------------------+--------------------+-------------------+----+-----+-------+--------------------+\n",
      "only showing top 20 rows\n",
      "\n"
     ]
    }
   ],
   "source": [
    "sdf_tips_cleaned = (\n",
    "    sdf_tip\n",
    "        .withColumn(\"ts\", to_timestamp(\"date\"))\n",
    "        .withColumn(\"date\", to_date(\"date\"))\n",
    "        .withColumn(\"year\", year(\"ts\"))\n",
    "        .withColumn(\"month\", month(\"ts\"))\n",
    "        .join(sdf_business_metro_area, on = 'business_id')\n",
    ")\n",
    "sdf_tips_cleaned.show()"
   ]
  },
  {
   "cell_type": "code",
   "execution_count": 55,
   "metadata": {},
   "outputs": [],
   "source": [
    "(\n",
    "    sdf_tips_cleaned\n",
    "        .write\n",
    "        .partitionBy('metropolitan_area', 'year')\n",
    "        .parquet(\n",
    "            \"data/output/yelp_academic_dataset_tip.parquet\", mode = 'overwrite'\n",
    "        )\n",
    ")"
   ]
  },
  {
   "cell_type": "code",
   "execution_count": 56,
   "metadata": {},
   "outputs": [
    {
     "name": "stdout",
     "output_type": "stream",
     "text": [
      "root\n",
      " |-- business_id: string (nullable = true)\n",
      " |-- compliment_count: long (nullable = true)\n",
      " |-- date: date (nullable = true)\n",
      " |-- text: string (nullable = true)\n",
      " |-- user_id: string (nullable = true)\n",
      " |-- ts: timestamp (nullable = true)\n",
      " |-- year: integer (nullable = true)\n",
      " |-- month: integer (nullable = true)\n",
      " |-- cluster: long (nullable = true)\n",
      " |-- metropolitan_area: string (nullable = true)\n",
      "\n"
     ]
    }
   ],
   "source": [
    "sdf_tips_cleaned.printSchema()"
   ]
  },
  {
   "cell_type": "markdown",
   "metadata": {},
   "source": [
    "### Review dataset"
   ]
  },
  {
   "cell_type": "code",
   "execution_count": 57,
   "metadata": {},
   "outputs": [],
   "source": [
    "sdf_reviews = spark.read.json(\"data/input/yelp_academic_dataset_review.json\")"
   ]
  },
  {
   "cell_type": "code",
   "execution_count": 58,
   "metadata": {},
   "outputs": [
    {
     "name": "stdout",
     "output_type": "stream",
     "text": [
      "root\n",
      " |-- business_id: string (nullable = true)\n",
      " |-- cool: long (nullable = true)\n",
      " |-- date: string (nullable = true)\n",
      " |-- funny: long (nullable = true)\n",
      " |-- review_id: string (nullable = true)\n",
      " |-- stars: double (nullable = true)\n",
      " |-- text: string (nullable = true)\n",
      " |-- useful: long (nullable = true)\n",
      " |-- user_id: string (nullable = true)\n",
      "\n"
     ]
    }
   ],
   "source": [
    "sdf_reviews.printSchema()"
   ]
  },
  {
   "cell_type": "code",
   "execution_count": 59,
   "metadata": {},
   "outputs": [
    {
     "name": "stdout",
     "output_type": "stream",
     "text": [
      "+--------------------+----+-------------------+-----+--------------------+-----+--------------------+------+--------------------+\n",
      "|         business_id|cool|               date|funny|           review_id|stars|                text|useful|             user_id|\n",
      "+--------------------+----+-------------------+-----+--------------------+-----+--------------------+------+--------------------+\n",
      "|buF9druCkbuXLX526...|   1|2014-10-11 03:34:02|    1|lWC-xP3rd6obsecCY...|  4.0|Apparently Prides...|     3|ak0TdVmGKo4pwqdJS...|\n",
      "|RA4V8pr014UyUbDvI...|   0|2015-07-03 20:38:25|    0|8bFej1QE5LXp4O05q...|  4.0|This store is pre...|     1|YoVfDbnISlW0f7abN...|\n",
      "|_sS2LBIGNT5NQb6PD...|   0|2013-05-28 20:38:06|    0|NDhkzczKjLshODbqD...|  5.0|I called WVM on t...|     0|eC5evKn1TWDyHCyQA...|\n",
      "|0AzLzHfOJgL7ROwhd...|   1|2010-01-08 02:29:15|    1|T5fAqjjFooT4V0OeZ...|  2.0|I've stayed at ma...|     1|SFQ1jcnGguO0LYWnb...|\n",
      "|8zehGz9jnxPqXtOc7...|   0|2011-07-28 18:05:01|    0|sjm_uUcQVxab_EeLC...|  4.0|The food is alway...|     0|0kA0PAJ8QFMeveQWH...|\n",
      "+--------------------+----+-------------------+-----+--------------------+-----+--------------------+------+--------------------+\n",
      "only showing top 5 rows\n",
      "\n"
     ]
    }
   ],
   "source": [
    "sdf_reviews.show(5)"
   ]
  },
  {
   "cell_type": "code",
   "execution_count": 60,
   "metadata": {},
   "outputs": [],
   "source": [
    "sdf_reviews.createOrReplaceTempView('reviews')"
   ]
  },
  {
   "cell_type": "code",
   "execution_count": 61,
   "metadata": {},
   "outputs": [
    {
     "name": "stdout",
     "output_type": "stream",
     "text": [
      "+-------+\n",
      "|      n|\n",
      "+-------+\n",
      "|8635403|\n",
      "+-------+\n",
      "\n"
     ]
    }
   ],
   "source": [
    "spark.sql(\"SELECT COUNT(*) AS n FROM reviews\").show()"
   ]
  },
  {
   "cell_type": "code",
   "execution_count": 62,
   "metadata": {},
   "outputs": [
    {
     "name": "stdout",
     "output_type": "stream",
     "text": [
      "+------------------+--------------+\n",
      "|unique_business_id|unique_user_id|\n",
      "+------------------+--------------+\n",
      "|            160585|       2189457|\n",
      "+------------------+--------------+\n",
      "\n"
     ]
    }
   ],
   "source": [
    "spark.sql(\n",
    "    \"\"\"SELECT \n",
    "        COUNT(DISTINCT business_id) AS unique_business_id, \n",
    "        COUNT(DISTINCT user_id) AS unique_user_id \n",
    "        FROM reviews\n",
    "    \"\"\").show()"
   ]
  },
  {
   "cell_type": "code",
   "execution_count": 63,
   "metadata": {},
   "outputs": [],
   "source": [
    "sdf_reviews_cleaned = (\n",
    "    sdf_reviews\n",
    "        .withColumn(\"ts\", to_timestamp(\"date\"))\n",
    "        .withColumn(\"date\", to_date(\"date\"))\n",
    "        .withColumn(\"year\", year(\"ts\"))\n",
    "        .withColumn(\"month\", month(\"ts\"))\n",
    "        .join(sdf_business_metro_area, on = 'business_id')\n",
    ")"
   ]
  },
  {
   "cell_type": "code",
   "execution_count": 64,
   "metadata": {},
   "outputs": [],
   "source": [
    "(\n",
    "    sdf_reviews_cleaned\n",
    "        .write\n",
    "        .partitionBy('metropolitan_area', 'year')\n",
    "        .parquet(\n",
    "            \"data/output/yelp_academic_dataset_review.parquet\", mode = 'overwrite'\n",
    "        )\n",
    ")"
   ]
  },
  {
   "cell_type": "code",
   "execution_count": 65,
   "metadata": {},
   "outputs": [],
   "source": [
    "spark.stop()"
   ]
  },
  {
   "cell_type": "code",
   "execution_count": null,
   "metadata": {},
   "outputs": [],
   "source": []
  },
  {
   "cell_type": "code",
   "execution_count": null,
   "metadata": {},
   "outputs": [],
   "source": []
  }
 ],
 "metadata": {
  "kernelspec": {
   "display_name": "Python 3",
   "language": "python",
   "name": "python3"
  },
  "language_info": {
   "codemirror_mode": {
    "name": "ipython",
    "version": 3
   },
   "file_extension": ".py",
   "mimetype": "text/x-python",
   "name": "python",
   "nbconvert_exporter": "python",
   "pygments_lexer": "ipython3",
   "version": "3.8.0"
  },
  "toc-autonumbering": true,
  "toc-showcode": false,
  "toc-showtags": true
 },
 "nbformat": 4,
 "nbformat_minor": 4
}
