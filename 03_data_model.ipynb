{
 "cells": [
  {
   "cell_type": "markdown",
   "metadata": {},
   "source": [
    "# Data model"
   ]
  },
  {
   "cell_type": "code",
   "execution_count": 97,
   "metadata": {},
   "outputs": [],
   "source": [
    "import pandas as pd\n",
    "import pyspark\n",
    "import pyspark.sql.functions as F\n",
    "from pyspark.sql.functions import split, col, explode, to_date, unix_timestamp, to_timestamp, year, month, dayofmonth, dayofweek, hour, minute"
   ]
  },
  {
   "cell_type": "code",
   "execution_count": 98,
   "metadata": {},
   "outputs": [],
   "source": [
    "from pyspark.sql import SparkSession\n",
    "spark = (\n",
    "    SparkSession\n",
    "        .builder\n",
    "        .appName(\"eda\")\n",
    "        .config(\"spark.driver.memory\", \"8g\")\n",
    "        .getOrCreate()\n",
    "    \n",
    ")"
   ]
  },
  {
   "cell_type": "code",
   "execution_count": 99,
   "metadata": {},
   "outputs": [],
   "source": [
    "sdf_business = spark.read.parquet(\"data/output/yelp_academic_dataset_business.parquet\")\n",
    "sdf_reviews = spark.read.parquet(\"data/output/yelp_academic_dataset_review.parquet\")\n",
    "sdf_tip = spark.read.parquet(\"data/output/yelp_academic_dataset_tip.parquet\")\n",
    "sdf_checkin = spark.read.parquet(\"data/output/yelp_academic_dataset_checkin.parquet\")"
   ]
  },
  {
   "cell_type": "code",
   "execution_count": 100,
   "metadata": {},
   "outputs": [],
   "source": [
    "def fun_preprocessing_summary(sdf):\n",
    "    return (\n",
    "        sdf.agg(\n",
    "            F.count('business_id').alias('num_obs'), \n",
    "            F.min(sdf.year).alias('min_year'), \n",
    "            F.max(sdf.year).alias('max_year'))\n",
    "        .show())"
   ]
  },
  {
   "cell_type": "code",
   "execution_count": 101,
   "metadata": {},
   "outputs": [
    {
     "name": "stdout",
     "output_type": "stream",
     "text": [
      "root\n",
      " |-- business_id: string (nullable = true)\n",
      " |-- address: string (nullable = true)\n",
      " |-- categories: string (nullable = true)\n",
      " |-- city: string (nullable = true)\n",
      " |-- is_open: long (nullable = true)\n",
      " |-- latitude: double (nullable = true)\n",
      " |-- longitude: double (nullable = true)\n",
      " |-- name: string (nullable = true)\n",
      " |-- postal_code: string (nullable = true)\n",
      " |-- review_count: long (nullable = true)\n",
      " |-- stars: double (nullable = true)\n",
      " |-- state: string (nullable = true)\n",
      " |-- attributes_AcceptsInsurance: string (nullable = true)\n",
      " |-- attributes_AgesAllowed: string (nullable = true)\n",
      " |-- attributes_Alcohol: string (nullable = true)\n",
      " |-- attributes_Ambience: string (nullable = true)\n",
      " |-- attributes_BYOB: string (nullable = true)\n",
      " |-- attributes_BYOBCorkage: string (nullable = true)\n",
      " |-- attributes_BestNights: string (nullable = true)\n",
      " |-- attributes_BikeParking: string (nullable = true)\n",
      " |-- attributes_BusinessAcceptsBitcoin: string (nullable = true)\n",
      " |-- attributes_BusinessAcceptsCreditCards: string (nullable = true)\n",
      " |-- attributes_BusinessParking: string (nullable = true)\n",
      " |-- attributes_ByAppointmentOnly: string (nullable = true)\n",
      " |-- attributes_Caters: string (nullable = true)\n",
      " |-- attributes_CoatCheck: string (nullable = true)\n",
      " |-- attributes_Corkage: string (nullable = true)\n",
      " |-- attributes_DietaryRestrictions: string (nullable = true)\n",
      " |-- attributes_DogsAllowed: string (nullable = true)\n",
      " |-- attributes_DriveThru: string (nullable = true)\n",
      " |-- attributes_GoodForDancing: string (nullable = true)\n",
      " |-- attributes_GoodForKids: string (nullable = true)\n",
      " |-- attributes_GoodForMeal: string (nullable = true)\n",
      " |-- attributes_HairSpecializesIn: string (nullable = true)\n",
      " |-- attributes_HappyHour: string (nullable = true)\n",
      " |-- attributes_HasTV: string (nullable = true)\n",
      " |-- attributes_Music: string (nullable = true)\n",
      " |-- attributes_NoiseLevel: string (nullable = true)\n",
      " |-- attributes_Open24Hours: string (nullable = true)\n",
      " |-- attributes_OutdoorSeating: string (nullable = true)\n",
      " |-- attributes_RestaurantsAttire: string (nullable = true)\n",
      " |-- attributes_RestaurantsCounterService: string (nullable = true)\n",
      " |-- attributes_RestaurantsDelivery: string (nullable = true)\n",
      " |-- attributes_RestaurantsGoodForGroups: string (nullable = true)\n",
      " |-- attributes_RestaurantsPriceRange2: string (nullable = true)\n",
      " |-- attributes_RestaurantsReservations: string (nullable = true)\n",
      " |-- attributes_RestaurantsTableService: string (nullable = true)\n",
      " |-- attributes_RestaurantsTakeOut: string (nullable = true)\n",
      " |-- attributes_Smoking: string (nullable = true)\n",
      " |-- attributes_WheelchairAccessible: string (nullable = true)\n",
      " |-- attributes_WiFi: string (nullable = true)\n",
      " |-- hours_Friday: string (nullable = true)\n",
      " |-- hours_Monday: string (nullable = true)\n",
      " |-- hours_Saturday: string (nullable = true)\n",
      " |-- hours_Sunday: string (nullable = true)\n",
      " |-- hours_Thursday: string (nullable = true)\n",
      " |-- hours_Tuesday: string (nullable = true)\n",
      " |-- hours_Wednesday: string (nullable = true)\n",
      " |-- cluster: long (nullable = true)\n",
      " |-- metropolitan_area: string (nullable = true)\n",
      "\n"
     ]
    }
   ],
   "source": [
    "sdf_business.printSchema()"
   ]
  },
  {
   "cell_type": "markdown",
   "metadata": {},
   "source": [
    "## Create number of business checkins table"
   ]
  },
  {
   "cell_type": "markdown",
   "metadata": {},
   "source": [
    "* `sdf_checkings_by_year`: Number of checkins in 2020."
   ]
  },
  {
   "cell_type": "code",
   "execution_count": 102,
   "metadata": {},
   "outputs": [
    {
     "name": "stdout",
     "output_type": "stream",
     "text": [
      "+-------+--------------------+----+------------+\n",
      "|cluster|         business_id|year|num_checkins|\n",
      "+-------+--------------------+----+------------+\n",
      "|      5|eJF-qHXo_r1rTaGQ1...|2020|           1|\n",
      "|      5|fYx8oy_w2o62wOrML...|2020|           4|\n",
      "|      5|fkH77-PQGtEz34w4T...|2020|          30|\n",
      "|      5|ge53koknoHRCYPY-2...|2020|          20|\n",
      "|      5|hx4kz5uRByzPUUxQ1...|2020|          23|\n",
      "|      5|jtb0k-rGm7jEQBlKR...|2020|           9|\n",
      "|      5|0IltPflRgUiQj5Psa...|2020|           1|\n",
      "|      5|0cu6YGlT-t80iH--C...|2020|          56|\n",
      "|      5|0uBLApPO7Vo91ECDg...|2020|           2|\n",
      "|      5|2tDN5AwDlapzub3S5...|2020|           2|\n",
      "+-------+--------------------+----+------------+\n",
      "only showing top 10 rows\n",
      "\n"
     ]
    }
   ],
   "source": [
    "# Business aggregated checkins by year\n",
    "sdf_checkings_by_year = (\n",
    "    sdf_checkin.groupBy(['cluster','business_id','year'])\n",
    "        .agg(F.count('business_id')\n",
    "        .alias('num_checkins'))\n",
    "        .filter(F.col(\"year\") == 2020))\n",
    "sdf_checkings_by_year.show(10)"
   ]
  },
  {
   "cell_type": "markdown",
   "metadata": {},
   "source": [
    "- Number of observations in the window year."
   ]
  },
  {
   "cell_type": "code",
   "execution_count": 103,
   "metadata": {},
   "outputs": [
    {
     "name": "stdout",
     "output_type": "stream",
     "text": [
      "+-------+--------+--------+\n",
      "|num_obs|min_year|max_year|\n",
      "+-------+--------+--------+\n",
      "|  55425|    2020|    2020|\n",
      "+-------+--------+--------+\n",
      "\n"
     ]
    }
   ],
   "source": [
    "fun_preprocessing_summary(sdf_checkings_by_year)"
   ]
  },
  {
   "cell_type": "markdown",
   "metadata": {},
   "source": [
    "## Create number of business tips table"
   ]
  },
  {
   "cell_type": "markdown",
   "metadata": {},
   "source": [
    "* `sdf_tips_by_year`: Number of tips per business in 2020"
   ]
  },
  {
   "cell_type": "code",
   "execution_count": 104,
   "metadata": {},
   "outputs": [
    {
     "name": "stdout",
     "output_type": "stream",
     "text": [
      "+-------+--------------------+----+--------+\n",
      "|cluster|         business_id|year|num_tips|\n",
      "+-------+--------------------+----+--------+\n",
      "|      1|mFbv0sujwZe2YTubu...|2020|       5|\n",
      "|      1|SrTk40kI-kE_BZIWJ...|2020|       1|\n",
      "|      1|NsYAEdSCD9M65TzsU...|2020|       5|\n",
      "|      5|PazxNZjNV0VXR7rzG...|2020|       9|\n",
      "|      5|5h4wdgWQv7JoFAKbZ...|2020|       4|\n",
      "|      5|ZBkz87uk81ZNhjJIj...|2020|       2|\n",
      "|      5|9CySyrNc61P26GYKO...|2020|       1|\n",
      "|      5|YFud540A5RLLg2OT-...|2020|       1|\n",
      "|      5|SrykgwUBIaqNwqvu7...|2020|       1|\n",
      "|      5|rWvZ4wF1Oiu07vS6W...|2020|       3|\n",
      "+-------+--------------------+----+--------+\n",
      "only showing top 10 rows\n",
      "\n"
     ]
    }
   ],
   "source": [
    "# Business aggregated tips by year\n",
    "sdf_tips_by_year = (\n",
    "    sdf_tip\n",
    "        .groupBy(['cluster','business_id','year'])\n",
    "        .agg(F.count('business_id').alias('num_tips'))\n",
    "        .filter(F.col(\"year\") == 2020)\n",
    ")\n",
    "sdf_tips_by_year.show(10)"
   ]
  },
  {
   "cell_type": "markdown",
   "metadata": {},
   "source": [
    "* Number of observations ion 2020"
   ]
  },
  {
   "cell_type": "code",
   "execution_count": 105,
   "metadata": {},
   "outputs": [
    {
     "name": "stdout",
     "output_type": "stream",
     "text": [
      "+-------+--------+--------+\n",
      "|num_obs|min_year|max_year|\n",
      "+-------+--------+--------+\n",
      "|  18604|    2020|    2020|\n",
      "+-------+--------+--------+\n",
      "\n"
     ]
    }
   ],
   "source": [
    "fun_preprocessing_summary(sdf_tips_by_year)"
   ]
  },
  {
   "cell_type": "markdown",
   "metadata": {},
   "source": [
    "## Create number of business reviews table"
   ]
  },
  {
   "cell_type": "markdown",
   "metadata": {},
   "source": [
    "* `sdf_reviews_by_year`: Number of reviews and average reviews of businesses in 2020"
   ]
  },
  {
   "cell_type": "code",
   "execution_count": 106,
   "metadata": {},
   "outputs": [
    {
     "name": "stdout",
     "output_type": "stream",
     "text": [
      "+-------+--------------------+----+-----------+------------------+\n",
      "|cluster|         business_id|year|num_reviews|mean_stars_reviews|\n",
      "+-------+--------------------+----+-----------+------------------+\n",
      "|      5|9CySyrNc61P26GYKO...|2020|          8|               5.0|\n",
      "|      5|SSWEDe8DW-eGJdbe4...|2020|         26|               2.7|\n",
      "|      5|Qe9qY1CdEQVn-vmv6...|2020|          1|               3.0|\n",
      "|      5|lfHvNR9oNEAZlWSDi...|2020|          3|               1.7|\n",
      "|      5|mZ-WU4y6YWOPhQiT0...|2020|          2|               1.5|\n",
      "|      5|nAmn8eskp8elbi3qD...|2020|          1|               4.0|\n",
      "|      5|eJF-qHXo_r1rTaGQ1...|2020|          1|               1.0|\n",
      "|      3|-jxEILUSqsWL0Oo7c...|2020|         67|               4.6|\n",
      "|      3|p8bGM_4JYsLF-W8Jf...|2020|          5|               5.0|\n",
      "|      3|wr0C8Xphc9i1vStcn...|2020|          1|               1.0|\n",
      "+-------+--------------------+----+-----------+------------------+\n",
      "only showing top 10 rows\n",
      "\n"
     ]
    }
   ],
   "source": [
    "# Business reviews by year \n",
    "sdf_reviews_by_year = (\n",
    "    sdf_reviews\n",
    "        .groupBy(['cluster','business_id','year'])\n",
    "        .agg(\n",
    "            F.count('business_id').alias('num_reviews'), \n",
    "            F.round( F.mean('stars'), 1).alias('mean_stars_reviews'))\n",
    "        .filter(F.col(\"year\") == 2020)\n",
    ")\n",
    "sdf_reviews_by_year.show(10)"
   ]
  },
  {
   "cell_type": "markdown",
   "metadata": {},
   "source": [
    "* Number of businesses with reviews in 2020."
   ]
  },
  {
   "cell_type": "code",
   "execution_count": 107,
   "metadata": {},
   "outputs": [
    {
     "name": "stdout",
     "output_type": "stream",
     "text": [
      "+-------+--------+--------+\n",
      "|num_obs|min_year|max_year|\n",
      "+-------+--------+--------+\n",
      "|  89770|    2020|    2020|\n",
      "+-------+--------+--------+\n",
      "\n"
     ]
    }
   ],
   "source": [
    "fun_preprocessing_summary(sdf_reviews_by_year)"
   ]
  },
  {
   "cell_type": "code",
   "execution_count": 108,
   "metadata": {},
   "outputs": [
    {
     "data": {
      "text/plain": [
       "160585"
      ]
     },
     "execution_count": 108,
     "metadata": {},
     "output_type": "execute_result"
    }
   ],
   "source": [
    "sdf_business.select(['cluster', 'metropolitan_area', 'business_id', 'name', 'review_count', 'stars']).count()"
   ]
  },
  {
   "cell_type": "markdown",
   "metadata": {},
   "source": [
    "- `sdf_business_union`: Join to `sdf_business` the following tables:\n",
    "    + `sdf_checkings_by_year`\n",
    "    + `sdf_tips_by_year`\n",
    "    + `sdf_reviews_by_year`"
   ]
  },
  {
   "cell_type": "markdown",
   "metadata": {},
   "source": [
    "## Create business union table"
   ]
  },
  {
   "cell_type": "code",
   "execution_count": 133,
   "metadata": {},
   "outputs": [
    {
     "name": "stdout",
     "output_type": "stream",
     "text": [
      "+-------+--------------------+-----------------+--------------------+--------------------+-------------+--------------+------------+-----+----+------------+----+--------+----+-----------+------------------+\n",
      "|cluster|         business_id|metropolitan_area|          categories|                name|     latitude|     longitude|review_count|stars|year|num_checkins|year|num_tips|year|num_reviews|mean_stars_reviews|\n",
      "+-------+--------------------+-----------------+--------------------+--------------------+-------------+--------------+------------+-----+----+------------+----+--------+----+-----------+------------------+\n",
      "|      0|-uVhjP6dd0yc7NBni...| Denver, Colorado|restaurants, soup...|     Gyro & Teriyaki|    33.936583|    -84.377824|          89|  2.0|2020|           4|2020|       1|2020|          3|               2.0|\n",
      "|      0|0aWgecomqCKN5HZK6...| Denver, Colorado|police department...|Atlanta Police De...|   33.8401005|   -84.3722226|           8|  4.0|null|        null|null|    null|2020|          1|               4.0|\n",
      "|      0|1OxOgjL9c3sz2Nzpy...| Denver, Colorado|tires, oil change...|Precision Tune Au...|   33.8363406|   -84.2010704|           6|  2.0|null|        null|null|    null|null|       null|              null|\n",
      "|      0|1UFopZhDG6u91ABJ9...| Denver, Colorado|appliances, home ...|            Best Buy|    33.919451|    -84.339844|          20|  1.5|2020|           6|null|    null|2020|         10|               1.9|\n",
      "|      0|1azvz1qh2yercyA_D...| Denver, Colorado|doctors, internal...|The Primary Care ...|   33.9184883|   -84.3776884|           6|  1.0|null|        null|null|    null|null|       null|              null|\n",
      "|      0|2-1iWJ7b8TJd76q1Z...| Denver, Colorado|automotive, car wash|      Minit Car Wash|    33.668016|     -84.44487|          28|  2.5|null|        null|null|    null|2020|          1|               1.0|\n",
      "|      0|2kGqjLqKzMmApZtYT...| Denver, Colorado|shopping, women's...|       Anthropologie|    33.847697|    -84.363397|          32|  4.0|2020|           4|null|    null|2020|          3|               3.7|\n",
      "|      0|47hWE7yHaO06zXr3M...| Denver, Colorado|real estate servi...|    The Kellum Group|     33.87112|     -84.33734|           7|  2.0|null|        null|null|    null|null|       null|              null|\n",
      "|      0|4g8riwuC6tP8kxMST...| Denver, Colorado|tires, automotive...|   Sears Auto Center|   33.8505899|   -84.2560042|          19|  2.5|null|        null|null|    null|null|       null|              null|\n",
      "|      0|4oJYkQkRuL0aXdE3R...| Denver, Colorado|food, restaurants...|          Cafe Siena|33.6369175684|-84.4477844238|           8|  2.5|null|        null|null|    null|null|       null|              null|\n",
      "+-------+--------------------+-----------------+--------------------+--------------------+-------------+--------------+------------+-----+----+------------+----+--------+----+-----------+------------------+\n",
      "only showing top 10 rows\n",
      "\n"
     ]
    }
   ],
   "source": [
    "sdf_business_union = (\n",
    "    # Business list\n",
    "    sdf_business\n",
    "        .select([\n",
    "            'cluster', \n",
    "            'metropolitan_area', \n",
    "            'categories', \n",
    "            'business_id', \n",
    "            'name',\n",
    "            'latitude',\n",
    "            'longitude',\n",
    "            'review_count', \n",
    "            'stars'])\n",
    "        # Join number of business checkins\n",
    "        .join(sdf_checkings_by_year, on = ['cluster','business_id'], how = 'left')\n",
    "        # Join number of business tips\n",
    "        .join(sdf_tips_by_year, on = ['cluster','business_id'], how = 'left')\n",
    "        # Join the number of business reviews\n",
    "        .join(sdf_reviews_by_year, on = ['cluster','business_id'], how = 'left')\n",
    ")\n",
    "sdf_business_union.show(10)"
   ]
  },
  {
   "cell_type": "code",
   "execution_count": 134,
   "metadata": {},
   "outputs": [
    {
     "name": "stdout",
     "output_type": "stream",
     "text": [
      "root\n",
      " |-- cluster: long (nullable = true)\n",
      " |-- business_id: string (nullable = true)\n",
      " |-- metropolitan_area: string (nullable = true)\n",
      " |-- categories: string (nullable = true)\n",
      " |-- name: string (nullable = true)\n",
      " |-- latitude: double (nullable = true)\n",
      " |-- longitude: double (nullable = true)\n",
      " |-- review_count: long (nullable = true)\n",
      " |-- stars: double (nullable = true)\n",
      " |-- year: integer (nullable = true)\n",
      " |-- num_checkins: long (nullable = true)\n",
      " |-- year: integer (nullable = true)\n",
      " |-- num_tips: long (nullable = true)\n",
      " |-- year: integer (nullable = true)\n",
      " |-- num_reviews: long (nullable = true)\n",
      " |-- mean_stars_reviews: double (nullable = true)\n",
      "\n"
     ]
    }
   ],
   "source": [
    "sdf_business_union.printSchema()"
   ]
  },
  {
   "cell_type": "markdown",
   "metadata": {},
   "source": [
    "* Number of rows in business_union"
   ]
  },
  {
   "cell_type": "code",
   "execution_count": 135,
   "metadata": {},
   "outputs": [
    {
     "data": {
      "text/plain": [
       "160585"
      ]
     },
     "execution_count": 135,
     "metadata": {},
     "output_type": "execute_result"
    }
   ],
   "source": [
    "sdf_business_union.count()"
   ]
  },
  {
   "cell_type": "markdown",
   "metadata": {},
   "source": [
    "* Show the top 1000 business categories."
   ]
  },
  {
   "cell_type": "markdown",
   "metadata": {},
   "source": [
    "## Create a Restaurants Catalog\n",
    "\n",
    "Lets create a catalog to classify business categories in resutrants or others.\n",
    "\n",
    "Steps:\n",
    "1. From `sdf_business_union` extract the business `categories` field, count and sort in descending order.\n",
    "2. Save table to CSV file\n",
    "3. Manually in a spreadsheet application label `is_restaurant`."
   ]
  },
  {
   "cell_type": "code",
   "execution_count": 112,
   "metadata": {},
   "outputs": [],
   "source": [
    "# Save business categories to csv.\n",
    "df_business_categories = (\n",
    "    sdf_business_union\n",
    "        .groupBy('categories')\n",
    "        .count()\n",
    "        .sort('count', ascending = False)\n",
    "        .toPandas()\n",
    ")\n",
    "df_business_categories.to_csv('data/preprocessing/grouped_categories.csv', index=False)"
   ]
  },
  {
   "cell_type": "markdown",
   "metadata": {},
   "source": [
    "## Create restaurants table"
   ]
  },
  {
   "cell_type": "markdown",
   "metadata": {},
   "source": [
    "Read manually classified catalog of restaurants."
   ]
  },
  {
   "cell_type": "code",
   "execution_count": 136,
   "metadata": {},
   "outputs": [],
   "source": [
    "sdf_business_categories_catalog = spark.read.csv(\"data/preprocessing/grouped_categories_catalog.csv\", header = True)"
   ]
  },
  {
   "cell_type": "code",
   "execution_count": 137,
   "metadata": {},
   "outputs": [],
   "source": [
    "# Filter restaurant businesses\n",
    "sdf_restaurants = (\n",
    "    sdf_business_union\n",
    "        .join(sdf_business_categories_catalog.select(['categories', 'is_restrautrant']), on = ['categories'], how = 'left')\n",
    "        .filter(col('is_restrautrant') == 1)\n",
    ")"
   ]
  },
  {
   "cell_type": "code",
   "execution_count": 138,
   "metadata": {},
   "outputs": [
    {
     "data": {
      "text/plain": [
       "66013"
      ]
     },
     "execution_count": 138,
     "metadata": {},
     "output_type": "execute_result"
    }
   ],
   "source": [
    "sdf_restaurants.count()"
   ]
  },
  {
   "cell_type": "code",
   "execution_count": 140,
   "metadata": {},
   "outputs": [
    {
     "name": "stdout",
     "output_type": "stream",
     "text": [
      "root\n",
      " |-- categories: string (nullable = true)\n",
      " |-- cluster: long (nullable = true)\n",
      " |-- business_id: string (nullable = true)\n",
      " |-- metropolitan_area: string (nullable = true)\n",
      " |-- name: string (nullable = true)\n",
      " |-- latitude: double (nullable = true)\n",
      " |-- longitude: double (nullable = true)\n",
      " |-- review_count: long (nullable = true)\n",
      " |-- stars: double (nullable = true)\n",
      " |-- year: integer (nullable = true)\n",
      " |-- num_checkins: long (nullable = true)\n",
      " |-- year: integer (nullable = true)\n",
      " |-- num_tips: long (nullable = true)\n",
      " |-- year: integer (nullable = true)\n",
      " |-- num_reviews: long (nullable = true)\n",
      " |-- mean_stars_reviews: double (nullable = true)\n",
      " |-- is_restrautrant: string (nullable = true)\n",
      "\n"
     ]
    }
   ],
   "source": [
    "sdf_restaurants.printSchema()"
   ]
  },
  {
   "cell_type": "code",
   "execution_count": 139,
   "metadata": {},
   "outputs": [],
   "source": [
    "# Save restaurants\n",
    "sdf_restaurants.toPandas().to_csv(\"data/output/restaurants.csv\", index = False)"
   ]
  },
  {
   "cell_type": "code",
   "execution_count": 96,
   "metadata": {},
   "outputs": [],
   "source": [
    "spark.stop()"
   ]
  },
  {
   "cell_type": "code",
   "execution_count": null,
   "metadata": {},
   "outputs": [],
   "source": []
  },
  {
   "cell_type": "code",
   "execution_count": null,
   "metadata": {},
   "outputs": [],
   "source": []
  }
 ],
 "metadata": {
  "kernelspec": {
   "display_name": "Python 3",
   "language": "python",
   "name": "python3"
  },
  "language_info": {
   "codemirror_mode": {
    "name": "ipython",
    "version": 3
   },
   "file_extension": ".py",
   "mimetype": "text/x-python",
   "name": "python",
   "nbconvert_exporter": "python",
   "pygments_lexer": "ipython3",
   "version": "3.8.0"
  },
  "toc-autonumbering": true,
  "toc-showmarkdowntxt": false
 },
 "nbformat": 4,
 "nbformat_minor": 4
}
