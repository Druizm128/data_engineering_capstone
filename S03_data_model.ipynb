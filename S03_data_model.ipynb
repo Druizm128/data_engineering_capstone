{
 "cells": [
  {
   "cell_type": "markdown",
   "metadata": {},
   "source": [
    "# Data model\n",
    "\n",
    "- This notebook implements the data model.\n",
    "\n",
    "- It first created the dimension and fact tables from cleaned parquet files.\n",
    "\n",
    "- The following diagram shows the data model that is comprised of four tables:\n",
    "    + sdf_business\n",
    "    + sdf_reviews\n",
    "    + sdf_tip\n",
    "    + sdf_checkin"
   ]
  },
  {
   "cell_type": "code",
   "execution_count": 69,
   "metadata": {},
   "outputs": [],
   "source": [
    "# Import libraries\n",
    "import pandas as pd\n",
    "import pyspark\n",
    "import pyspark.sql.functions as F\n",
    "from pyspark.sql.functions import (\n",
    "    split, col, explode, to_date, unix_timestamp,\n",
    "    to_timestamp, year, month, dayofmonth, dayofweek, \n",
    "    hour, minute\n",
    ")"
   ]
  },
  {
   "cell_type": "code",
   "execution_count": 46,
   "metadata": {},
   "outputs": [],
   "source": [
    "# Create spark environment\n",
    "from pyspark.sql import SparkSession\n",
    "spark = (\n",
    "    SparkSession\n",
    "        .builder\n",
    "        .appName(\"eda\")\n",
    "        .config(\"spark.driver.memory\", \"8g\")\n",
    "        .getOrCreate()\n",
    "    \n",
    ")"
   ]
  },
  {
   "cell_type": "code",
   "execution_count": 47,
   "metadata": {},
   "outputs": [],
   "source": [
    "# Read data\n",
    "sdf_business = spark.read.parquet(\"data/output/yelp_academic_dataset_business.parquet\")\n",
    "sdf_reviews = spark.read.parquet(\"data/output/yelp_academic_dataset_review.parquet\")\n",
    "sdf_tip = spark.read.parquet(\"data/output/yelp_academic_dataset_tip.parquet\")\n",
    "sdf_checkin = spark.read.parquet(\"data/output/yelp_academic_dataset_checkin.parquet\")"
   ]
  },
  {
   "cell_type": "code",
   "execution_count": 48,
   "metadata": {},
   "outputs": [],
   "source": [
    "def fun_preprocessing_summary(sdf):\n",
    "    '''Prints a summary table of the number of observations and the years comprised.\n",
    "    Atributes:\n",
    "        sdf: A spark dataframe\n",
    "    Returns:\n",
    "        Prints a table with the number of obsefvations, minimum and maximum year.\n",
    "    '''\n",
    "    return (\n",
    "        sdf.agg(\n",
    "            F.count('business_id').alias('num_obs'), \n",
    "            F.min(sdf.year).alias('min_year'), \n",
    "            F.max(sdf.year).alias('max_year'))\n",
    "        .show())"
   ]
  },
  {
   "cell_type": "code",
   "execution_count": 49,
   "metadata": {},
   "outputs": [
    {
     "name": "stdout",
     "output_type": "stream",
     "text": [
      "root\n",
      " |-- business_id: string (nullable = true)\n",
      " |-- address: string (nullable = true)\n",
      " |-- categories: string (nullable = true)\n",
      " |-- city: string (nullable = true)\n",
      " |-- is_open: long (nullable = true)\n",
      " |-- latitude: double (nullable = true)\n",
      " |-- longitude: double (nullable = true)\n",
      " |-- name: string (nullable = true)\n",
      " |-- postal_code: string (nullable = true)\n",
      " |-- review_count: long (nullable = true)\n",
      " |-- stars: double (nullable = true)\n",
      " |-- state: string (nullable = true)\n",
      " |-- attributes_AcceptsInsurance: string (nullable = true)\n",
      " |-- attributes_AgesAllowed: string (nullable = true)\n",
      " |-- attributes_Alcohol: string (nullable = true)\n",
      " |-- attributes_Ambience: string (nullable = true)\n",
      " |-- attributes_BYOB: string (nullable = true)\n",
      " |-- attributes_BYOBCorkage: string (nullable = true)\n",
      " |-- attributes_BestNights: string (nullable = true)\n",
      " |-- attributes_BikeParking: string (nullable = true)\n",
      " |-- attributes_BusinessAcceptsBitcoin: string (nullable = true)\n",
      " |-- attributes_BusinessAcceptsCreditCards: string (nullable = true)\n",
      " |-- attributes_BusinessParking: string (nullable = true)\n",
      " |-- attributes_ByAppointmentOnly: string (nullable = true)\n",
      " |-- attributes_Caters: string (nullable = true)\n",
      " |-- attributes_CoatCheck: string (nullable = true)\n",
      " |-- attributes_Corkage: string (nullable = true)\n",
      " |-- attributes_DietaryRestrictions: string (nullable = true)\n",
      " |-- attributes_DogsAllowed: string (nullable = true)\n",
      " |-- attributes_DriveThru: string (nullable = true)\n",
      " |-- attributes_GoodForDancing: string (nullable = true)\n",
      " |-- attributes_GoodForKids: string (nullable = true)\n",
      " |-- attributes_GoodForMeal: string (nullable = true)\n",
      " |-- attributes_HairSpecializesIn: string (nullable = true)\n",
      " |-- attributes_HappyHour: string (nullable = true)\n",
      " |-- attributes_HasTV: string (nullable = true)\n",
      " |-- attributes_Music: string (nullable = true)\n",
      " |-- attributes_NoiseLevel: string (nullable = true)\n",
      " |-- attributes_Open24Hours: string (nullable = true)\n",
      " |-- attributes_OutdoorSeating: string (nullable = true)\n",
      " |-- attributes_RestaurantsAttire: string (nullable = true)\n",
      " |-- attributes_RestaurantsCounterService: string (nullable = true)\n",
      " |-- attributes_RestaurantsDelivery: string (nullable = true)\n",
      " |-- attributes_RestaurantsGoodForGroups: string (nullable = true)\n",
      " |-- attributes_RestaurantsPriceRange2: string (nullable = true)\n",
      " |-- attributes_RestaurantsReservations: string (nullable = true)\n",
      " |-- attributes_RestaurantsTableService: string (nullable = true)\n",
      " |-- attributes_RestaurantsTakeOut: string (nullable = true)\n",
      " |-- attributes_Smoking: string (nullable = true)\n",
      " |-- attributes_WheelchairAccessible: string (nullable = true)\n",
      " |-- attributes_WiFi: string (nullable = true)\n",
      " |-- hours_Friday: string (nullable = true)\n",
      " |-- hours_Monday: string (nullable = true)\n",
      " |-- hours_Saturday: string (nullable = true)\n",
      " |-- hours_Sunday: string (nullable = true)\n",
      " |-- hours_Thursday: string (nullable = true)\n",
      " |-- hours_Tuesday: string (nullable = true)\n",
      " |-- hours_Wednesday: string (nullable = true)\n",
      " |-- cluster: long (nullable = true)\n",
      " |-- metropolitan_area: string (nullable = true)\n",
      "\n"
     ]
    }
   ],
   "source": [
    "sdf_business.printSchema()"
   ]
  },
  {
   "cell_type": "markdown",
   "metadata": {},
   "source": [
    "## Create number of business checkins table"
   ]
  },
  {
   "cell_type": "markdown",
   "metadata": {},
   "source": [
    "* `sdf_checkings_by_year`: Number of checkins in 2020."
   ]
  },
  {
   "cell_type": "code",
   "execution_count": 50,
   "metadata": {},
   "outputs": [
    {
     "name": "stdout",
     "output_type": "stream",
     "text": [
      "+-------+--------------------+----+------------+\n",
      "|cluster|         business_id|year|num_checkins|\n",
      "+-------+--------------------+----+------------+\n",
      "|      3|cMd8wyA2Ihx8ox31b...|2020|          12|\n",
      "|      3|eE5fG3KsygPx4NG8P...|2020|          22|\n",
      "|      3|eHZu7KW5cDt4OR1p3...|2020|          14|\n",
      "|      3|euGJ66qkVIt8NLGWq...|2020|           3|\n",
      "|      3|f8cfLeoNlcyEdWNUq...|2020|           8|\n",
      "|      3|fsMX2yJrYuJODzhyG...|2020|          13|\n",
      "|      3|hAyaNDmsu09dV1jY9...|2020|           3|\n",
      "|      3|iBzGe-WgOXItmouJL...|2020|          28|\n",
      "|      3|-41JZd1tneiARMgls...|2020|           2|\n",
      "|      3|003O_Z6sbCd1rUJG3...|2020|           5|\n",
      "+-------+--------------------+----+------------+\n",
      "only showing top 10 rows\n",
      "\n"
     ]
    }
   ],
   "source": [
    "# Business aggregated checkins by year\n",
    "sdf_checkings_by_year = (\n",
    "    sdf_checkin.groupBy(['cluster','business_id','year'])\n",
    "        .agg(F.count('business_id')\n",
    "        .alias('num_checkins'))\n",
    "        .filter(F.col(\"year\") == 2020))\n",
    "sdf_checkings_by_year.show(10)"
   ]
  },
  {
   "cell_type": "markdown",
   "metadata": {},
   "source": [
    "- Number of observations in the window year."
   ]
  },
  {
   "cell_type": "code",
   "execution_count": 51,
   "metadata": {},
   "outputs": [
    {
     "name": "stdout",
     "output_type": "stream",
     "text": [
      "+-------+--------+--------+\n",
      "|num_obs|min_year|max_year|\n",
      "+-------+--------+--------+\n",
      "|  55425|    2020|    2020|\n",
      "+-------+--------+--------+\n",
      "\n"
     ]
    }
   ],
   "source": [
    "fun_preprocessing_summary(sdf_checkings_by_year)"
   ]
  },
  {
   "cell_type": "markdown",
   "metadata": {},
   "source": [
    "## Create number of business tips table"
   ]
  },
  {
   "cell_type": "markdown",
   "metadata": {},
   "source": [
    "* `sdf_tips_by_year`: Number of tips per business in 2020"
   ]
  },
  {
   "cell_type": "code",
   "execution_count": 52,
   "metadata": {},
   "outputs": [
    {
     "name": "stdout",
     "output_type": "stream",
     "text": [
      "+-------+--------------------+----+--------+\n",
      "|cluster|         business_id|year|num_tips|\n",
      "+-------+--------------------+----+--------+\n",
      "|      7|NFb4zqgY-P2A_ISUn...|2020|       3|\n",
      "|      7|J9W4fPHfZlhwwtDmJ...|2020|       1|\n",
      "|      7|GtVsVznFezaZFSdLC...|2020|       1|\n",
      "|      7|QxwMKvWZ9flt1l_Jb...|2020|       2|\n",
      "|      7|vM5VMgMGZIwPgT8C_...|2020|       2|\n",
      "|      7|WeMAq5qE6qr5aAUoA...|2020|       1|\n",
      "|      7|cCVXr-vJp59gkrsng...|2020|       1|\n",
      "|      3|o3EOOa-Rt--zHmC9R...|2020|      16|\n",
      "|      3|M3yxURl7qDk9qhStH...|2020|       3|\n",
      "|      3|eE5fG3KsygPx4NG8P...|2020|       5|\n",
      "+-------+--------------------+----+--------+\n",
      "only showing top 10 rows\n",
      "\n"
     ]
    }
   ],
   "source": [
    "# Business aggregated tips by year\n",
    "sdf_tips_by_year = (\n",
    "    sdf_tip\n",
    "        .groupBy(['cluster','business_id','year'])\n",
    "        .agg(F.count('business_id').alias('num_tips'))\n",
    "        .filter(F.col(\"year\") == 2020)\n",
    ")\n",
    "sdf_tips_by_year.show(10)"
   ]
  },
  {
   "cell_type": "markdown",
   "metadata": {},
   "source": [
    "* Number of observations ion 2020"
   ]
  },
  {
   "cell_type": "code",
   "execution_count": 53,
   "metadata": {},
   "outputs": [
    {
     "name": "stdout",
     "output_type": "stream",
     "text": [
      "+-------+--------+--------+\n",
      "|num_obs|min_year|max_year|\n",
      "+-------+--------+--------+\n",
      "|  18604|    2020|    2020|\n",
      "+-------+--------+--------+\n",
      "\n"
     ]
    }
   ],
   "source": [
    "fun_preprocessing_summary(sdf_tips_by_year)"
   ]
  },
  {
   "cell_type": "markdown",
   "metadata": {},
   "source": [
    "## Create number of business reviews table"
   ]
  },
  {
   "cell_type": "markdown",
   "metadata": {},
   "source": [
    "* `sdf_reviews_by_year`: Number of reviews and average reviews of businesses in 2020"
   ]
  },
  {
   "cell_type": "code",
   "execution_count": 54,
   "metadata": {},
   "outputs": [
    {
     "name": "stdout",
     "output_type": "stream",
     "text": [
      "+-------+--------------------+----+-----------+------------------+\n",
      "|cluster|         business_id|year|num_reviews|mean_stars_reviews|\n",
      "+-------+--------------------+----+-----------+------------------+\n",
      "|      3|eE5fG3KsygPx4NG8P...|2020|         13|               4.4|\n",
      "|      3|f8cfLeoNlcyEdWNUq...|2020|          3|               4.7|\n",
      "|      3|LULoJmcf6d4mALHnE...|2020|          7|               2.4|\n",
      "|      3|aTgkJk5JWx6Zix_Ij...|2020|          7|               2.0|\n",
      "|      3|s0tFGT3NAY0bCUsAu...|2020|          2|               4.0|\n",
      "|      3|HAN_o7lxUIYKFZgsN...|2020|          4|               3.8|\n",
      "|      3|UaPgLbq5KCliW3zWk...|2020|          1|               1.0|\n",
      "|      4|1wkxaLRz3cIN5HmLU...|2020|          9|               4.6|\n",
      "|      4|5xxa-QGFs3B_JXkv3...|2020|         38|               3.8|\n",
      "|      4|fQNQCT_gdKMYZ8J-D...|2020|          6|               5.0|\n",
      "+-------+--------------------+----+-----------+------------------+\n",
      "only showing top 10 rows\n",
      "\n"
     ]
    }
   ],
   "source": [
    "# Business reviews by year \n",
    "sdf_reviews_by_year = (\n",
    "    sdf_reviews\n",
    "        .groupBy(['cluster','business_id','year'])\n",
    "        .agg(\n",
    "            F.count('business_id').alias('num_reviews'), \n",
    "            F.round( F.mean('stars'), 1).alias('mean_stars_reviews'))\n",
    "        .filter(F.col(\"year\") == 2020)\n",
    ")\n",
    "sdf_reviews_by_year.show(10)"
   ]
  },
  {
   "cell_type": "markdown",
   "metadata": {},
   "source": [
    "* Number of businesses with reviews in 2020."
   ]
  },
  {
   "cell_type": "code",
   "execution_count": 55,
   "metadata": {},
   "outputs": [
    {
     "name": "stdout",
     "output_type": "stream",
     "text": [
      "+-------+--------+--------+\n",
      "|num_obs|min_year|max_year|\n",
      "+-------+--------+--------+\n",
      "|  89770|    2020|    2020|\n",
      "+-------+--------+--------+\n",
      "\n"
     ]
    }
   ],
   "source": [
    "fun_preprocessing_summary(sdf_reviews_by_year)"
   ]
  },
  {
   "cell_type": "code",
   "execution_count": 56,
   "metadata": {},
   "outputs": [
    {
     "data": {
      "text/plain": [
       "160585"
      ]
     },
     "execution_count": 56,
     "metadata": {},
     "output_type": "execute_result"
    }
   ],
   "source": [
    "sdf_business.select(['cluster', 'metropolitan_area', 'business_id', 'name', 'review_count', 'stars']).count()"
   ]
  },
  {
   "cell_type": "markdown",
   "metadata": {},
   "source": [
    "- `sdf_business_union`: Join to `sdf_business` the following tables:\n",
    "    + `sdf_checkings_by_year`\n",
    "    + `sdf_tips_by_year`\n",
    "    + `sdf_reviews_by_year`"
   ]
  },
  {
   "cell_type": "markdown",
   "metadata": {},
   "source": [
    "## Create business union table"
   ]
  },
  {
   "cell_type": "code",
   "execution_count": 57,
   "metadata": {},
   "outputs": [
    {
     "name": "stdout",
     "output_type": "stream",
     "text": [
      "+-------+--------------------+--------------------+--------------------+--------------------+-------------+--------------+------------+-----+----+------------+----+--------+----+-----------+------------------+\n",
      "|cluster|         business_id|   metropolitan_area|          categories|                name|     latitude|     longitude|review_count|stars|year|num_checkins|year|num_tips|year|num_reviews|mean_stars_reviews|\n",
      "+-------+--------------------+--------------------+--------------------+--------------------+-------------+--------------+------------+-----+----+------------+----+--------+----+-----------+------------------+\n",
      "|      0|-5faLoQMJW3422kbY...|Cambridge, Masach...|piercing, tattoo,...|The Boston Tattoo...|   42.3956419|   -71.1226264|         180|  4.0|2020|           2|null|    null|2020|         10|               4.3|\n",
      "|      0|-VDPtLMUt7yUN_If4...|Cambridge, Masach...|psychologists, he...|Square Medical Gr...|42.3626930968|-71.1909291521|          16|  2.0|null|        null|null|    null|2020|          2|               1.0|\n",
      "|      0|-mhtDWHVcIXAWvn5E...|Cambridge, Masach...|grocery, food, fr...|America's Food Ba...|    42.298782|    -71.062962|           9|  2.5|null|        null|null|    null|null|       null|              null|\n",
      "|      0|-tbVzQXDvi5F8JCke...|Cambridge, Masach...|restaurants, coff...|           Starbucks|    42.452084|-71.1367538221|          28|  3.5|null|        null|null|    null|2020|          1|               3.0|\n",
      "|      0|09pqlAR4TSjQXNTiB...|Cambridge, Masach...|american (new), l...|           Jm Curley|42.3552425761|-71.0623372441|         797|  3.5|2020|           8|2020|       1|2020|         11|               3.6|\n",
      "|      0|0gMXuBO2GYHHw-guH...|Cambridge, Masach...|automotive, auto ...|   Axion Motorsports|42.1629856643|-71.0233457386|           7|  5.0|2020|           1|null|    null|null|       null|              null|\n",
      "|      0|1JxsAYTmbDqvd09fB...|Cambridge, Masach...|specialty food, f...| Edible Arrangements|   42.4054676|   -71.1020057|          20|  3.0|null|        null|null|    null|2020|          4|               2.3|\n",
      "|      0|1c67CpRc5cI7IOxSn...|Cambridge, Masach...|real estate, apar...|Metro at Wilmingt...|   42.5456755|     -71.17431|           6|  2.5|null|        null|null|    null|null|       null|              null|\n",
      "|      0|1f4ODqSgyJKhV9N-K...|Cambridge, Masach...|restaurants, food...|Jimmys Famous Bee...|   42.5618161|   -70.9329226|          40|  4.0|null|        null|null|    null|2020|          1|               5.0|\n",
      "|      0|1j4lL5ybDgSBv1js3...|Cambridge, Masach...|dog walkers, pets...|Friends of Rosebu...|   42.3377967|   -71.0705763|           8|  5.0|null|        null|null|    null|2020|          3|               5.0|\n",
      "+-------+--------------------+--------------------+--------------------+--------------------+-------------+--------------+------------+-----+----+------------+----+--------+----+-----------+------------------+\n",
      "only showing top 10 rows\n",
      "\n"
     ]
    }
   ],
   "source": [
    "sdf_business_union = (\n",
    "    # Business list\n",
    "    sdf_business\n",
    "        .select([\n",
    "            'cluster', \n",
    "            'metropolitan_area', \n",
    "            'categories', \n",
    "            'business_id', \n",
    "            'name',\n",
    "            'latitude',\n",
    "            'longitude',\n",
    "            'review_count', \n",
    "            'stars'])\n",
    "        # Join number of business checkins\n",
    "        .join(sdf_checkings_by_year, on = ['cluster','business_id'], how = 'left')\n",
    "        # Join number of business tips\n",
    "        .join(sdf_tips_by_year, on = ['cluster','business_id'], how = 'left')\n",
    "        # Join the number of business reviews\n",
    "        .join(sdf_reviews_by_year, on = ['cluster','business_id'], how = 'left')\n",
    ")\n",
    "sdf_business_union.show(10)"
   ]
  },
  {
   "cell_type": "code",
   "execution_count": 58,
   "metadata": {},
   "outputs": [
    {
     "name": "stdout",
     "output_type": "stream",
     "text": [
      "root\n",
      " |-- cluster: long (nullable = true)\n",
      " |-- business_id: string (nullable = true)\n",
      " |-- metropolitan_area: string (nullable = true)\n",
      " |-- categories: string (nullable = true)\n",
      " |-- name: string (nullable = true)\n",
      " |-- latitude: double (nullable = true)\n",
      " |-- longitude: double (nullable = true)\n",
      " |-- review_count: long (nullable = true)\n",
      " |-- stars: double (nullable = true)\n",
      " |-- year: integer (nullable = true)\n",
      " |-- num_checkins: long (nullable = true)\n",
      " |-- year: integer (nullable = true)\n",
      " |-- num_tips: long (nullable = true)\n",
      " |-- year: integer (nullable = true)\n",
      " |-- num_reviews: long (nullable = true)\n",
      " |-- mean_stars_reviews: double (nullable = true)\n",
      "\n"
     ]
    }
   ],
   "source": [
    "sdf_business_union.printSchema()"
   ]
  },
  {
   "cell_type": "markdown",
   "metadata": {},
   "source": [
    "* Number of rows in business_union"
   ]
  },
  {
   "cell_type": "code",
   "execution_count": 59,
   "metadata": {},
   "outputs": [
    {
     "data": {
      "text/plain": [
       "160585"
      ]
     },
     "execution_count": 59,
     "metadata": {},
     "output_type": "execute_result"
    }
   ],
   "source": [
    "sdf_business_union.count()"
   ]
  },
  {
   "cell_type": "markdown",
   "metadata": {},
   "source": [
    "* Show the top 1000 business categories."
   ]
  },
  {
   "cell_type": "markdown",
   "metadata": {},
   "source": [
    "## Create a Restaurants Catalog\n",
    "\n",
    "Lets create a catalog to classify business categories in resutrants or others.\n",
    "\n",
    "Steps:\n",
    "1. From `sdf_business_union` extract the business `categories` field, count and sort in descending order.\n",
    "2. Save table to CSV file\n",
    "3. Manually in a spreadsheet application label `is_restaurant`."
   ]
  },
  {
   "cell_type": "code",
   "execution_count": 60,
   "metadata": {},
   "outputs": [],
   "source": [
    "# Save business categories to csv.\n",
    "df_business_categories = (\n",
    "    sdf_business_union\n",
    "        .groupBy('categories')\n",
    "        .count()\n",
    "        .sort('count', ascending = False)\n",
    "        .toPandas()\n",
    ")\n",
    "df_business_categories.to_csv('data/preprocessing/grouped_categories.csv', index=False)"
   ]
  },
  {
   "cell_type": "markdown",
   "metadata": {},
   "source": [
    "## Create restaurants table"
   ]
  },
  {
   "cell_type": "markdown",
   "metadata": {},
   "source": [
    "Read manually classified catalog of restaurants."
   ]
  },
  {
   "cell_type": "code",
   "execution_count": 61,
   "metadata": {},
   "outputs": [],
   "source": [
    "sdf_business_categories_catalog = spark.read.csv(\"data/preprocessing/grouped_categories_catalog.csv\", header = True)"
   ]
  },
  {
   "cell_type": "code",
   "execution_count": 62,
   "metadata": {},
   "outputs": [],
   "source": [
    "# Filter restaurant businesses\n",
    "sdf_restaurants = (\n",
    "    sdf_business_union\n",
    "        .join(sdf_business_categories_catalog.select(['categories', 'is_restrautrant']), on = ['categories'], how = 'left')\n",
    "        .filter(col('is_restrautrant') == 1)\n",
    ")"
   ]
  },
  {
   "cell_type": "code",
   "execution_count": 63,
   "metadata": {},
   "outputs": [
    {
     "data": {
      "text/plain": [
       "66013"
      ]
     },
     "execution_count": 63,
     "metadata": {},
     "output_type": "execute_result"
    }
   ],
   "source": [
    "sdf_restaurants.count()"
   ]
  },
  {
   "cell_type": "code",
   "execution_count": 64,
   "metadata": {},
   "outputs": [
    {
     "name": "stdout",
     "output_type": "stream",
     "text": [
      "root\n",
      " |-- categories: string (nullable = true)\n",
      " |-- cluster: long (nullable = true)\n",
      " |-- business_id: string (nullable = true)\n",
      " |-- metropolitan_area: string (nullable = true)\n",
      " |-- name: string (nullable = true)\n",
      " |-- latitude: double (nullable = true)\n",
      " |-- longitude: double (nullable = true)\n",
      " |-- review_count: long (nullable = true)\n",
      " |-- stars: double (nullable = true)\n",
      " |-- year: integer (nullable = true)\n",
      " |-- num_checkins: long (nullable = true)\n",
      " |-- year: integer (nullable = true)\n",
      " |-- num_tips: long (nullable = true)\n",
      " |-- year: integer (nullable = true)\n",
      " |-- num_reviews: long (nullable = true)\n",
      " |-- mean_stars_reviews: double (nullable = true)\n",
      " |-- is_restrautrant: string (nullable = true)\n",
      "\n"
     ]
    }
   ],
   "source": [
    "sdf_restaurants.printSchema()"
   ]
  },
  {
   "cell_type": "code",
   "execution_count": 65,
   "metadata": {},
   "outputs": [],
   "source": [
    "# Save restaurants\n",
    "sdf_restaurants.toPandas().to_csv(\"data/output/restaurants.csv\", index = False)"
   ]
  },
  {
   "cell_type": "code",
   "execution_count": 66,
   "metadata": {},
   "outputs": [],
   "source": [
    "spark.stop()"
   ]
  },
  {
   "cell_type": "code",
   "execution_count": null,
   "metadata": {},
   "outputs": [],
   "source": []
  },
  {
   "cell_type": "code",
   "execution_count": null,
   "metadata": {},
   "outputs": [],
   "source": []
  }
 ],
 "metadata": {
  "kernelspec": {
   "display_name": "Python 3",
   "language": "python",
   "name": "python3"
  },
  "language_info": {
   "codemirror_mode": {
    "name": "ipython",
    "version": 3
   },
   "file_extension": ".py",
   "mimetype": "text/x-python",
   "name": "python",
   "nbconvert_exporter": "python",
   "pygments_lexer": "ipython3",
   "version": "3.8.0"
  },
  "toc-autonumbering": true,
  "toc-showmarkdowntxt": false
 },
 "nbformat": 4,
 "nbformat_minor": 4
}
