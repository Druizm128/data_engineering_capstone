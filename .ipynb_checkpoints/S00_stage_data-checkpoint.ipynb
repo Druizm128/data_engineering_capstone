{
 "cells": [
  {
   "cell_type": "markdown",
   "metadata": {},
   "source": [
    "# Staging data from source to S3"
   ]
  },
  {
   "cell_type": "markdown",
   "metadata": {},
   "source": [
    "## Prerequisites:\n",
    "\n",
    "- Setup IAM admin credentials\n",
    "\n",
    "- Install AWS CLI in local\n",
    "\n",
    "- Retrieve original [Yelp datasets from Kaggle](https://www.kaggle.com/yelp-dataset/yelp-dataset?select=yelp_academic_dataset_checkin.json)\n",
    "    + yelp_academic_dataset_business.json (125 MB)\n",
    "    + yelp_academic_dataset_checkin.json (399 MB)\n",
    "    + yelp_academic_dataset_tip.json (231 MB)\n",
    "    + yelp_academic_dataset_user.json (3.68 GB)\n",
    "    + yelp_academic_dataset_review.json (6.94 GB)"
   ]
  },
  {
   "cell_type": "markdown",
   "metadata": {},
   "source": [
    "## Setup project"
   ]
  },
  {
   "cell_type": "code",
   "execution_count": 1,
   "metadata": {},
   "outputs": [],
   "source": [
    "# Import python libraries\n",
    "import os\n",
    "import configparser"
   ]
  },
  {
   "cell_type": "code",
   "execution_count": 2,
   "metadata": {},
   "outputs": [
    {
     "data": {
      "text/plain": [
       "['config/config_file.ini']"
      ]
     },
     "execution_count": 2,
     "metadata": {},
     "output_type": "execute_result"
    }
   ],
   "source": [
    "# Parse configuration file\n",
    "config = configparser.ConfigParser()\n",
    "config.read(\"config/config_file.ini\")"
   ]
  },
  {
   "cell_type": "markdown",
   "metadata": {},
   "source": [
    "### Create bucket"
   ]
  },
  {
   "cell_type": "code",
   "execution_count": 3,
   "metadata": {},
   "outputs": [],
   "source": [
    "bucket = config['s3']['bucket_name']"
   ]
  },
  {
   "cell_type": "code",
   "execution_count": 4,
   "metadata": {},
   "outputs": [
    {
     "name": "stdout",
     "output_type": "stream",
     "text": [
      "make_bucket: yelp-capstone-data\n"
     ]
    }
   ],
   "source": [
    "# Create bucket\n",
    "!aws s3 mb $bucket"
   ]
  },
  {
   "cell_type": "markdown",
   "metadata": {},
   "source": [
    "## Stage data from local to s3"
   ]
  },
  {
   "cell_type": "markdown",
   "metadata": {},
   "source": [
    "### yelp_business_data"
   ]
  },
  {
   "cell_type": "code",
   "execution_count": 5,
   "metadata": {},
   "outputs": [],
   "source": [
    "local_path_business_data = config['yelp_business_data']['local_path']\n",
    "s3_path_business_data = config['yelp_business_data']['s3_path']"
   ]
  },
  {
   "cell_type": "code",
   "execution_count": 6,
   "metadata": {},
   "outputs": [
    {
     "name": "stdout",
     "output_type": "stream",
     "text": [
      "upload: data/input/yelp_academic_dataset_business.json to s3://yelp-capstone-data/data/input/yelp_academic_dataset_business.json\n"
     ]
    }
   ],
   "source": [
    "## yelp_academic_dataset_business.json (125 MB)\n",
    "!aws s3 cp $local_path_business_data $s3_path_business_data"
   ]
  },
  {
   "cell_type": "markdown",
   "metadata": {},
   "source": [
    "### yelp_academic_dataset_checkin"
   ]
  },
  {
   "cell_type": "code",
   "execution_count": 7,
   "metadata": {},
   "outputs": [],
   "source": [
    "local_path_checkin_data = config['yelp_checkin_data']['local_path']\n",
    "s3_path_checkin_data = config['yelp_checkin_data']['s3_path']"
   ]
  },
  {
   "cell_type": "code",
   "execution_count": 8,
   "metadata": {},
   "outputs": [
    {
     "name": "stdout",
     "output_type": "stream",
     "text": [
      "upload: data/input/yelp_academic_dataset_checkin.json to s3://yelp-capstone-data/data/input/yelp_academic_dataset_checkin.json\n"
     ]
    }
   ],
   "source": [
    "## yelp_academic_dataset_checkin.json (399 MB)\n",
    "!aws s3 cp $local_path_checkin_data $s3_path_checkin_data"
   ]
  },
  {
   "cell_type": "markdown",
   "metadata": {},
   "source": [
    "### yelp_academic_dataset_tip"
   ]
  },
  {
   "cell_type": "code",
   "execution_count": 9,
   "metadata": {},
   "outputs": [],
   "source": [
    "local_path_yelp_tip_data = config['yelp_tip_data']['local_path']\n",
    "s3_path_yelp_tip_data = config['yelp_tip_data']['s3_path']"
   ]
  },
  {
   "cell_type": "code",
   "execution_count": 10,
   "metadata": {},
   "outputs": [
    {
     "name": "stdout",
     "output_type": "stream",
     "text": [
      "upload: data/input/yelp_academic_dataset_tip.json to s3://yelp-capstone-data/data/input/yelp_academic_dataset_tip.json\n"
     ]
    }
   ],
   "source": [
    "## yelp_academic_dataset_tip.json (231 MB)\n",
    "!aws s3 cp $local_path_yelp_tip_data $s3_path_yelp_tip_data"
   ]
  },
  {
   "cell_type": "markdown",
   "metadata": {},
   "source": [
    "### yelp_academic_dataset_user"
   ]
  },
  {
   "cell_type": "code",
   "execution_count": 11,
   "metadata": {},
   "outputs": [],
   "source": [
    "local_path_user_data = config['yelp_user_data']['local_path']\n",
    "s3_path_user_data = config['yelp_user_data']['s3_path']"
   ]
  },
  {
   "cell_type": "code",
   "execution_count": 12,
   "metadata": {},
   "outputs": [
    {
     "name": "stdout",
     "output_type": "stream",
     "text": [
      "upload: data/input/yelp_academic_dataset_user.json to s3://yelp-capstone-data/data/input/yelp_academic_dataset_user.json\n"
     ]
    }
   ],
   "source": [
    "## yelp_academic_dataset_user.json (3.68 GB)\n",
    "!aws s3 cp $local_path_user_data $s3_path_user_data"
   ]
  },
  {
   "cell_type": "markdown",
   "metadata": {},
   "source": [
    "### yelp_academic_dataset_review"
   ]
  },
  {
   "cell_type": "code",
   "execution_count": 13,
   "metadata": {},
   "outputs": [],
   "source": [
    "local_path_review_data = config['yelp_review_data']['local_path']\n",
    "s3_path_review_data = config['yelp_review_data']['s3_path']"
   ]
  },
  {
   "cell_type": "code",
   "execution_count": 14,
   "metadata": {},
   "outputs": [
    {
     "name": "stdout",
     "output_type": "stream",
     "text": [
      "upload: data/input/yelp_academic_dataset_review.json to s3://yelp-capstone-data/data/input/yelp_academic_dataset_review.json\n"
     ]
    }
   ],
   "source": [
    "## yelp_academic_dataset_review.json (6.94 GB)\n",
    "!aws s3 cp $local_path_review_data $s3_path_review_data"
   ]
  },
  {
   "cell_type": "markdown",
   "metadata": {},
   "source": [
    "## References:\n",
    "\n",
    "- [Using high-level (s3) commands with the AWS CLI](https://docs.aws.amazon.com/cli/latest/userguide/cli-services-s3-commands.html#using-s3-commands-managing-buckets-creating)\n",
    "- [Yelp datasets from Kaggle](https://www.kaggle.com/yelp-dataset/yelp-dataset?select=yelp_academic_dataset_checkin.json)"
   ]
  },
  {
   "cell_type": "code",
   "execution_count": null,
   "metadata": {},
   "outputs": [],
   "source": []
  }
 ],
 "metadata": {
  "kernelspec": {
   "display_name": "Python 3",
   "language": "python",
   "name": "python3"
  },
  "language_info": {
   "codemirror_mode": {
    "name": "ipython",
    "version": 3
   },
   "file_extension": ".py",
   "mimetype": "text/x-python",
   "name": "python",
   "nbconvert_exporter": "python",
   "pygments_lexer": "ipython3",
   "version": "3.8.0"
  },
  "toc-autonumbering": true
 },
 "nbformat": 4,
 "nbformat_minor": 4
}
